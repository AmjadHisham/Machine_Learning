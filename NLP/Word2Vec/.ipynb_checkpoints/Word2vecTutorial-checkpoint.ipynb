{
 "cells": [
  {
   "cell_type": "code",
   "execution_count": 1,
   "metadata": {
    "collapsed": false
   },
   "outputs": [],
   "source": [
    "import numpy as np\n",
    "import os\n",
    "from random import shuffle\n",
    "import re"
   ]
  },
  {
   "cell_type": "code",
   "execution_count": 2,
   "metadata": {
    "collapsed": false
   },
   "outputs": [
    {
     "data": {
      "text/html": [
       "\n",
       "    <div class=\"bk-root\">\n",
       "        <a href=\"http://bokeh.pydata.org\" target=\"_blank\" class=\"bk-logo bk-logo-small bk-logo-notebook\"></a>\n",
       "        <span id=\"0c79abad-2e75-407b-9a7b-b2ed651029bb\">Loading BokehJS ...</span>\n",
       "    </div>"
      ]
     },
     "metadata": {},
     "output_type": "display_data"
    },
    {
     "data": {
      "application/javascript": [
       "\n",
       "(function(global) {\n",
       "  function now() {\n",
       "    return new Date();\n",
       "  }\n",
       "\n",
       "  var force = true;\n",
       "\n",
       "  if (typeof (window._bokeh_onload_callbacks) === \"undefined\" || force === true) {\n",
       "    window._bokeh_onload_callbacks = [];\n",
       "    window._bokeh_is_loading = undefined;\n",
       "  }\n",
       "\n",
       "\n",
       "  \n",
       "  if (typeof (window._bokeh_timeout) === \"undefined\" || force === true) {\n",
       "    window._bokeh_timeout = Date.now() + 5000;\n",
       "    window._bokeh_failed_load = false;\n",
       "  }\n",
       "\n",
       "  var NB_LOAD_WARNING = {'data': {'text/html':\n",
       "     \"<div style='background-color: #fdd'>\\n\"+\n",
       "     \"<p>\\n\"+\n",
       "     \"BokehJS does not appear to have successfully loaded. If loading BokehJS from CDN, this \\n\"+\n",
       "     \"may be due to a slow or bad network connection. Possible fixes:\\n\"+\n",
       "     \"</p>\\n\"+\n",
       "     \"<ul>\\n\"+\n",
       "     \"<li>re-rerun `output_notebook()` to attempt to load from CDN again, or</li>\\n\"+\n",
       "     \"<li>use INLINE resources instead, as so:</li>\\n\"+\n",
       "     \"</ul>\\n\"+\n",
       "     \"<code>\\n\"+\n",
       "     \"from bokeh.resources import INLINE\\n\"+\n",
       "     \"output_notebook(resources=INLINE)\\n\"+\n",
       "     \"</code>\\n\"+\n",
       "     \"</div>\"}};\n",
       "\n",
       "  function display_loaded() {\n",
       "    if (window.Bokeh !== undefined) {\n",
       "      document.getElementById(\"0c79abad-2e75-407b-9a7b-b2ed651029bb\").textContent = \"BokehJS successfully loaded.\";\n",
       "    } else if (Date.now() < window._bokeh_timeout) {\n",
       "      setTimeout(display_loaded, 100)\n",
       "    }\n",
       "  }\n",
       "\n",
       "  function run_callbacks() {\n",
       "    window._bokeh_onload_callbacks.forEach(function(callback) { callback() });\n",
       "    delete window._bokeh_onload_callbacks\n",
       "    console.info(\"Bokeh: all callbacks have finished\");\n",
       "  }\n",
       "\n",
       "  function load_libs(js_urls, callback) {\n",
       "    window._bokeh_onload_callbacks.push(callback);\n",
       "    if (window._bokeh_is_loading > 0) {\n",
       "      console.log(\"Bokeh: BokehJS is being loaded, scheduling callback at\", now());\n",
       "      return null;\n",
       "    }\n",
       "    if (js_urls == null || js_urls.length === 0) {\n",
       "      run_callbacks();\n",
       "      return null;\n",
       "    }\n",
       "    console.log(\"Bokeh: BokehJS not loaded, scheduling load and callback at\", now());\n",
       "    window._bokeh_is_loading = js_urls.length;\n",
       "    for (var i = 0; i < js_urls.length; i++) {\n",
       "      var url = js_urls[i];\n",
       "      var s = document.createElement('script');\n",
       "      s.src = url;\n",
       "      s.async = false;\n",
       "      s.onreadystatechange = s.onload = function() {\n",
       "        window._bokeh_is_loading--;\n",
       "        if (window._bokeh_is_loading === 0) {\n",
       "          console.log(\"Bokeh: all BokehJS libraries loaded\");\n",
       "          run_callbacks()\n",
       "        }\n",
       "      };\n",
       "      s.onerror = function() {\n",
       "        console.warn(\"failed to load library \" + url);\n",
       "      };\n",
       "      console.log(\"Bokeh: injecting script tag for BokehJS library: \", url);\n",
       "      document.getElementsByTagName(\"head\")[0].appendChild(s);\n",
       "    }\n",
       "  };var element = document.getElementById(\"0c79abad-2e75-407b-9a7b-b2ed651029bb\");\n",
       "  if (element == null) {\n",
       "    console.log(\"Bokeh: ERROR: autoload.js configured with elementid '0c79abad-2e75-407b-9a7b-b2ed651029bb' but no matching script tag was found. \")\n",
       "    return false;\n",
       "  }\n",
       "\n",
       "  var js_urls = [\"https://cdn.pydata.org/bokeh/release/bokeh-0.12.4.min.js\", \"https://cdn.pydata.org/bokeh/release/bokeh-widgets-0.12.4.min.js\"];\n",
       "\n",
       "  var inline_js = [\n",
       "    function(Bokeh) {\n",
       "      Bokeh.set_log_level(\"info\");\n",
       "    },\n",
       "    \n",
       "    function(Bokeh) {\n",
       "      \n",
       "      document.getElementById(\"0c79abad-2e75-407b-9a7b-b2ed651029bb\").textContent = \"BokehJS is loading...\";\n",
       "    },\n",
       "    function(Bokeh) {\n",
       "      console.log(\"Bokeh: injecting CSS: https://cdn.pydata.org/bokeh/release/bokeh-0.12.4.min.css\");\n",
       "      Bokeh.embed.inject_css(\"https://cdn.pydata.org/bokeh/release/bokeh-0.12.4.min.css\");\n",
       "      console.log(\"Bokeh: injecting CSS: https://cdn.pydata.org/bokeh/release/bokeh-widgets-0.12.4.min.css\");\n",
       "      Bokeh.embed.inject_css(\"https://cdn.pydata.org/bokeh/release/bokeh-widgets-0.12.4.min.css\");\n",
       "    }\n",
       "  ];\n",
       "\n",
       "  function run_inline_js() {\n",
       "    \n",
       "    if ((window.Bokeh !== undefined) || (force === true)) {\n",
       "      for (var i = 0; i < inline_js.length; i++) {\n",
       "        inline_js[i](window.Bokeh);\n",
       "      }if (force === true) {\n",
       "        display_loaded();\n",
       "      }} else if (Date.now() < window._bokeh_timeout) {\n",
       "      setTimeout(run_inline_js, 100);\n",
       "    } else if (!window._bokeh_failed_load) {\n",
       "      console.log(\"Bokeh: BokehJS failed to load within specified timeout.\");\n",
       "      window._bokeh_failed_load = true;\n",
       "    } else if (force !== true) {\n",
       "      var cell = $(document.getElementById(\"0c79abad-2e75-407b-9a7b-b2ed651029bb\")).parents('.cell').data().cell;\n",
       "      cell.output_area.append_execute_result(NB_LOAD_WARNING)\n",
       "    }\n",
       "\n",
       "  }\n",
       "\n",
       "  if (window._bokeh_is_loading === 0) {\n",
       "    console.log(\"Bokeh: BokehJS loaded, going straight to plotting\");\n",
       "    run_inline_js();\n",
       "  } else {\n",
       "    load_libs(js_urls, function() {\n",
       "      console.log(\"Bokeh: BokehJS plotting callback run at\", now());\n",
       "      run_inline_js();\n",
       "    });\n",
       "  }\n",
       "}(this));"
      ]
     },
     "metadata": {},
     "output_type": "display_data"
    }
   ],
   "source": [
    "from bokeh.models import ColumnDataSource, LabelSet\n",
    "from bokeh.plotting import figure, show, output_file\n",
    "from bokeh.io import output_notebook\n",
    "output_notebook()"
   ]
  },
  {
   "cell_type": "code",
   "execution_count": 6,
   "metadata": {
    "collapsed": false
   },
   "outputs": [],
   "source": [
    "import urllib\n",
    "import zipfile\n",
    "import lxml.etree"
   ]
  },
  {
   "cell_type": "code",
   "execution_count": 7,
   "metadata": {
    "collapsed": true
   },
   "outputs": [],
   "source": [
    "# Download the dataset if it's not already there: this may take a minute as it is 75MB\n",
    "if not os.path.isfile('ted_en-20160408.zip'):\n",
    "    urllib.urlretrieve(\"https://wit3.fbk.eu/get.php?path=XML_releases/xml/ted_en-20160408.zip&filename=ted_en-20160408.zip\", filename=\"ted_en-20160408.zip\")"
   ]
  },
  {
   "cell_type": "code",
   "execution_count": 8,
   "metadata": {
    "collapsed": false
   },
   "outputs": [],
   "source": [
    "# For now, we're only interested in the subtitle text, so let's extract that from the XML:\n",
    "with zipfile.ZipFile('ted_en-20160408.zip', 'r') as z:\n",
    "    doc = lxml.etree.parse(z.open('ted_en-20160408.xml', 'r'))\n",
    "input_text = '\\n'.join(doc.xpath('//content/text()'))\n",
    "del doc"
   ]
  },
  {
   "cell_type": "code",
   "execution_count": 9,
   "metadata": {
    "collapsed": false
   },
   "outputs": [
    {
     "data": {
      "text/plain": [
       "u' baby does.\\n(Video) Hyowon Gweon: See this? (Ball squeaks) Did you see that? (Ball squeaks) Cool. See this one? (Ball squeaks) Wow.\\nLaura Schulz: Told you. (Laughs)\\n(Vide'"
      ]
     },
     "execution_count": 9,
     "metadata": {},
     "output_type": "execute_result"
    }
   ],
   "source": [
    "i = input_text.find(\"Hyowon Gweon: See this?\")\n",
    "input_text[i-20:i+150]"
   ]
  },
  {
   "cell_type": "code",
   "execution_count": 10,
   "metadata": {
    "collapsed": true
   },
   "outputs": [],
   "source": [
    "input_text_noparens = re.sub(r'\\([^)]*\\)', '', input_text)"
   ]
  },
  {
   "cell_type": "code",
   "execution_count": 11,
   "metadata": {
    "collapsed": false
   },
   "outputs": [
    {
     "data": {
      "text/plain": [
       "u\"hat the baby does.\\n Hyowon Gweon: See this?  Did you see that?  Cool. See this one?  Wow.\\nLaura Schulz: Told you. \\n HG: See this one?  Hey Clara, this one's for you. You \""
      ]
     },
     "execution_count": 11,
     "metadata": {},
     "output_type": "execute_result"
    }
   ],
   "source": [
    "i = input_text_noparens.find(\"Hyowon Gweon: See this?\")\n",
    "input_text_noparens[i-20:i+150]"
   ]
  },
  {
   "cell_type": "code",
   "execution_count": 12,
   "metadata": {
    "collapsed": false
   },
   "outputs": [
    {
     "data": {
      "text/plain": [
       "[u\"Here are two reasons companies fail: they only do more of the same, or they only do what's new\",\n",
       " u'To me the real, real solution to quality growth is figuring out the balance between two activities: exploration and exploitation',\n",
       " u' Both are necessary, but it can be too much of a good thing',\n",
       " u'Consider Facit',\n",
       " u\" I'm actually old enough to remember them\"]"
      ]
     },
     "execution_count": 12,
     "metadata": {},
     "output_type": "execute_result"
    }
   ],
   "source": [
    "sentences_strings_ted = []\n",
    "for line in input_text_noparens.split('\\n'):\n",
    "    m = re.match(r'^(?:(?P<precolon>[^:]{,20}):)?(?P<postcolon>.*)$', line)\n",
    "    sentences_strings_ted.extend(sent for sent in m.groupdict()['postcolon'].split('.') if sent)\n",
    "\n",
    "# Uncomment if you need to save some RAM: these strings are about 50MB.\n",
    "# del input_text, input_text_noparens\n",
    "\n",
    "# Let's view the first few:\n",
    "sentences_strings_ted[:5]"
   ]
  },
  {
   "cell_type": "code",
   "execution_count": 16,
   "metadata": {
    "collapsed": false
   },
   "outputs": [],
   "source": [
    "from stop_words import get_stop_words\n",
    "\n",
    "stop_words = get_stop_words('english')\n",
    "sentences_strings_stop_ted = []\n",
    "for i in range(len(sentences_strings_ted)):\n",
    "    text = ' '.join([word for word in sentences_strings_ted[i].split() if word not in stop_words])\n",
    "    sentences_strings_stop_ted.append(text)"
   ]
  },
  {
   "cell_type": "code",
   "execution_count": 17,
   "metadata": {
    "collapsed": false
   },
   "outputs": [
    {
     "data": {
      "text/plain": [
       "[u'Here two reasons companies fail: same, new',\n",
       " u'To real, real solution quality growth figuring balance two activities: exploration exploitation',\n",
       " u'Both necessary, can much good thing',\n",
       " u'Consider Facit',\n",
       " u\"I'm actually old enough remember\"]"
      ]
     },
     "execution_count": 17,
     "metadata": {},
     "output_type": "execute_result"
    }
   ],
   "source": [
    "sentences_strings_stop_ted[:5]"
   ]
  },
  {
   "cell_type": "code",
   "execution_count": 18,
   "metadata": {
    "collapsed": true
   },
   "outputs": [],
   "source": [
    "sentences_ted = []\n",
    "for sent_str in sentences_strings_stop_ted:\n",
    "    tokens = re.sub(r\"[^a-z0-9]+\", \" \", sent_str.lower()).split()\n",
    "    sentences_ted.append(tokens)"
   ]
  },
  {
   "cell_type": "code",
   "execution_count": 19,
   "metadata": {
    "collapsed": false
   },
   "outputs": [
    {
     "data": {
      "text/plain": [
       "266694"
      ]
     },
     "execution_count": 19,
     "metadata": {},
     "output_type": "execute_result"
    }
   ],
   "source": [
    "len(sentences_ted)"
   ]
  },
  {
   "cell_type": "code",
   "execution_count": 22,
   "metadata": {
    "collapsed": false
   },
   "outputs": [
    {
     "data": {
      "text/plain": [
       "[u'consider', u'facit']"
      ]
     },
     "execution_count": 22,
     "metadata": {},
     "output_type": "execute_result"
    }
   ],
   "source": [
    "sentences_ted[3]"
   ]
  },
  {
   "cell_type": "code",
   "execution_count": 23,
   "metadata": {
    "collapsed": false
   },
   "outputs": [
    {
     "data": {
      "text/plain": [
       "[u'here', u'two', u'reasons', u'companies', u'fail', u'same', u'new']"
      ]
     },
     "execution_count": 23,
     "metadata": {},
     "output_type": "execute_result"
    }
   ],
   "source": [
    "sentences_ted[0]"
   ]
  },
  {
   "cell_type": "code",
   "execution_count": 24,
   "metadata": {
    "collapsed": false
   },
   "outputs": [],
   "source": [
    "from gensim.models import Word2Vec"
   ]
  },
  {
   "cell_type": "code",
   "execution_count": 25,
   "metadata": {
    "collapsed": true
   },
   "outputs": [],
   "source": [
    "model_ted = Word2Vec(sentences_ted, size=100, window=5, min_count=10, workers=4)"
   ]
  },
  {
   "cell_type": "code",
   "execution_count": 26,
   "metadata": {
    "collapsed": false
   },
   "outputs": [
    {
     "data": {
      "text/plain": [
       "[(u'woman', 0.8943348526954651),\n",
       " (u'girl', 0.7999122738838196),\n",
       " (u'son', 0.794209361076355),\n",
       " (u'boy', 0.7898585796356201),\n",
       " (u'lady', 0.7837948799133301),\n",
       " (u'mary', 0.7776634097099304),\n",
       " (u'daughter', 0.7673740983009338),\n",
       " (u'sister', 0.7465887665748596),\n",
       " (u'brother', 0.7460297346115112),\n",
       " (u'husband', 0.7396356463432312)]"
      ]
     },
     "execution_count": 26,
     "metadata": {},
     "output_type": "execute_result"
    }
   ],
   "source": [
    "model_ted.most_similar(\"man\")"
   ]
  },
  {
   "cell_type": "code",
   "execution_count": 27,
   "metadata": {
    "collapsed": false
   },
   "outputs": [
    {
     "data": {
      "text/plain": [
       "[(u'machine', 0.8168897032737732),\n",
       " (u'software', 0.7924525737762451),\n",
       " (u'computers', 0.7476165294647217),\n",
       " (u'robot', 0.7457460165023804),\n",
       " (u'3d', 0.7327775955200195),\n",
       " (u'algorithm', 0.7237495183944702),\n",
       " (u'device', 0.7149367928504944),\n",
       " (u'code', 0.7061489224433899),\n",
       " (u'interface', 0.6981454491615295),\n",
       " (u'lab', 0.678130567073822)]"
      ]
     },
     "execution_count": 27,
     "metadata": {},
     "output_type": "execute_result"
    }
   ],
   "source": [
    "model_ted.most_similar(\"computer\")"
   ]
  },
  {
   "cell_type": "code",
   "execution_count": 28,
   "metadata": {
    "collapsed": false
   },
   "outputs": [],
   "source": [
    "from nltk import *"
   ]
  },
  {
   "cell_type": "code",
   "execution_count": 29,
   "metadata": {
    "collapsed": false
   },
   "outputs": [],
   "source": [
    "words = np.concatenate(sentences_ted)"
   ]
  },
  {
   "cell_type": "code",
   "execution_count": 30,
   "metadata": {
    "collapsed": true
   },
   "outputs": [],
   "source": [
    "fdist = FreqDist(words)"
   ]
  },
  {
   "cell_type": "code",
   "execution_count": 31,
   "metadata": {
    "collapsed": false
   },
   "outputs": [],
   "source": [
    "common = fdist.most_common(1000)\n",
    "words_top_ted = []\n",
    "for count, words in enumerate(common):\n",
    "    words_top_ted.append(str(words[0]))"
   ]
  },
  {
   "cell_type": "code",
   "execution_count": 32,
   "metadata": {
    "collapsed": false
   },
   "outputs": [
    {
     "data": {
      "text/plain": [
       "['meaning',\n",
       " 'decision',\n",
       " 'fire',\n",
       " 'taught',\n",
       " 'expect',\n",
       " '80',\n",
       " 'village',\n",
       " 'mine',\n",
       " 'wife',\n",
       " 'freedom',\n",
       " 'crisis',\n",
       " 'sent',\n",
       " 'tells',\n",
       " 'robots',\n",
       " 'meant',\n",
       " 'sleep',\n",
       " 'mom',\n",
       " 'visual',\n",
       " 'thousand',\n",
       " 'late',\n",
       " 'however',\n",
       " 'trees',\n",
       " 'serious',\n",
       " 'lose',\n",
       " 'smart',\n",
       " 'killed',\n",
       " 'conditions',\n",
       " 'wish',\n",
       " 'ended',\n",
       " 'pattern',\n",
       " '18',\n",
       " 'somehow',\n",
       " 'rich',\n",
       " 'brains',\n",
       " 'square',\n",
       " 'cold',\n",
       " 'impossible',\n",
       " 'compassion',\n",
       " 'successful',\n",
       " 'fundamental',\n",
       " 'spread',\n",
       " 'bunch',\n",
       " 'increase',\n",
       " 'thanks',\n",
       " 'protect',\n",
       " 'service',\n",
       " 'truly',\n",
       " 'pieces',\n",
       " 'nuclear',\n",
       " 'intelligence']"
      ]
     },
     "execution_count": 32,
     "metadata": {},
     "output_type": "execute_result"
    }
   ],
   "source": [
    "words_top_ted[950:]"
   ]
  },
  {
   "cell_type": "code",
   "execution_count": 33,
   "metadata": {
    "collapsed": false
   },
   "outputs": [],
   "source": [
    "words_top_vec_ted = model_ted[words_top_ted]"
   ]
  },
  {
   "cell_type": "code",
   "execution_count": 34,
   "metadata": {
    "collapsed": true
   },
   "outputs": [],
   "source": [
    "from sklearn.manifold import TSNE\n",
    "tsne = TSNE(n_components=2, random_state=0)\n",
    "words_top_ted_tsne = tsne.fit_transform(words_top_vec_ted)"
   ]
  },
  {
   "cell_type": "code",
   "execution_count": 35,
   "metadata": {
    "collapsed": false
   },
   "outputs": [
    {
     "data": {
      "text/html": [
       "\n",
       "\n",
       "    <div class=\"bk-root\">\n",
       "        <div class=\"bk-plotdiv\" id=\"a5a07df3-858f-46ee-aff4-b3774fc1eca9\"></div>\n",
       "    </div>\n",
       "<script type=\"text/javascript\">\n",
       "  \n",
       "  (function(global) {\n",
       "    function now() {\n",
       "      return new Date();\n",
       "    }\n",
       "  \n",
       "    var force = false;\n",
       "  \n",
       "    if (typeof (window._bokeh_onload_callbacks) === \"undefined\" || force === true) {\n",
       "      window._bokeh_onload_callbacks = [];\n",
       "      window._bokeh_is_loading = undefined;\n",
       "    }\n",
       "  \n",
       "  \n",
       "    \n",
       "    if (typeof (window._bokeh_timeout) === \"undefined\" || force === true) {\n",
       "      window._bokeh_timeout = Date.now() + 0;\n",
       "      window._bokeh_failed_load = false;\n",
       "    }\n",
       "  \n",
       "    var NB_LOAD_WARNING = {'data': {'text/html':\n",
       "       \"<div style='background-color: #fdd'>\\n\"+\n",
       "       \"<p>\\n\"+\n",
       "       \"BokehJS does not appear to have successfully loaded. If loading BokehJS from CDN, this \\n\"+\n",
       "       \"may be due to a slow or bad network connection. Possible fixes:\\n\"+\n",
       "       \"</p>\\n\"+\n",
       "       \"<ul>\\n\"+\n",
       "       \"<li>re-rerun `output_notebook()` to attempt to load from CDN again, or</li>\\n\"+\n",
       "       \"<li>use INLINE resources instead, as so:</li>\\n\"+\n",
       "       \"</ul>\\n\"+\n",
       "       \"<code>\\n\"+\n",
       "       \"from bokeh.resources import INLINE\\n\"+\n",
       "       \"output_notebook(resources=INLINE)\\n\"+\n",
       "       \"</code>\\n\"+\n",
       "       \"</div>\"}};\n",
       "  \n",
       "    function display_loaded() {\n",
       "      if (window.Bokeh !== undefined) {\n",
       "        document.getElementById(\"a5a07df3-858f-46ee-aff4-b3774fc1eca9\").textContent = \"BokehJS successfully loaded.\";\n",
       "      } else if (Date.now() < window._bokeh_timeout) {\n",
       "        setTimeout(display_loaded, 100)\n",
       "      }\n",
       "    }\n",
       "  \n",
       "    function run_callbacks() {\n",
       "      window._bokeh_onload_callbacks.forEach(function(callback) { callback() });\n",
       "      delete window._bokeh_onload_callbacks\n",
       "      console.info(\"Bokeh: all callbacks have finished\");\n",
       "    }\n",
       "  \n",
       "    function load_libs(js_urls, callback) {\n",
       "      window._bokeh_onload_callbacks.push(callback);\n",
       "      if (window._bokeh_is_loading > 0) {\n",
       "        console.log(\"Bokeh: BokehJS is being loaded, scheduling callback at\", now());\n",
       "        return null;\n",
       "      }\n",
       "      if (js_urls == null || js_urls.length === 0) {\n",
       "        run_callbacks();\n",
       "        return null;\n",
       "      }\n",
       "      console.log(\"Bokeh: BokehJS not loaded, scheduling load and callback at\", now());\n",
       "      window._bokeh_is_loading = js_urls.length;\n",
       "      for (var i = 0; i < js_urls.length; i++) {\n",
       "        var url = js_urls[i];\n",
       "        var s = document.createElement('script');\n",
       "        s.src = url;\n",
       "        s.async = false;\n",
       "        s.onreadystatechange = s.onload = function() {\n",
       "          window._bokeh_is_loading--;\n",
       "          if (window._bokeh_is_loading === 0) {\n",
       "            console.log(\"Bokeh: all BokehJS libraries loaded\");\n",
       "            run_callbacks()\n",
       "          }\n",
       "        };\n",
       "        s.onerror = function() {\n",
       "          console.warn(\"failed to load library \" + url);\n",
       "        };\n",
       "        console.log(\"Bokeh: injecting script tag for BokehJS library: \", url);\n",
       "        document.getElementsByTagName(\"head\")[0].appendChild(s);\n",
       "      }\n",
       "    };var element = document.getElementById(\"a5a07df3-858f-46ee-aff4-b3774fc1eca9\");\n",
       "    if (element == null) {\n",
       "      console.log(\"Bokeh: ERROR: autoload.js configured with elementid 'a5a07df3-858f-46ee-aff4-b3774fc1eca9' but no matching script tag was found. \")\n",
       "      return false;\n",
       "    }\n",
       "  \n",
       "    var js_urls = [];\n",
       "  \n",
       "    var inline_js = [\n",
       "      function(Bokeh) {\n",
       "        (function() {\n",
       "          var fn = function() {\n",
       "            var docs_json = {\"d49a819c-a57f-41cc-a4a2-5671a9dd53a5\":{\"roots\":{\"references\":[{\"attributes\":{\"formatter\":{\"id\":\"5e97a077-3c35-4133-822b-36b12fbf592b\",\"type\":\"BasicTickFormatter\"},\"plot\":{\"id\":\"33556bad-fa14-425a-80b5-cdcbdae87b36\",\"subtype\":\"Figure\",\"type\":\"Plot\"},\"ticker\":{\"id\":\"11c5f29d-4aef-49de-96b3-3f656e9e47a7\",\"type\":\"BasicTicker\"}},\"id\":\"e852b602-7474-43f7-99f8-53f3911c3cff\",\"type\":\"LinearAxis\"},{\"attributes\":{},\"id\":\"5e97a077-3c35-4133-822b-36b12fbf592b\",\"type\":\"BasicTickFormatter\"},{\"attributes\":{\"callback\":null,\"column_names\":[\"x2\",\"x1\",\"names\"],\"data\":{\"names\":[\"i\",\"and\",\"s\",\"so\",\"can\",\"it\",\"one\",\"people\",\"like\",\"now\",\"just\",\"we\",\"but\",\"the\",\"know\",\"going\",\"this\",\"you\",\"think\",\"see\",\"really\",\"get\",\"that\",\"m\",\"world\",\"us\",\"time\",\"actually\",\"way\",\"will\",\"years\",\"things\",\"go\",\"well\",\"want\",\"they\",\"make\",\"right\",\"said\",\"something\",\"first\",\"two\",\"there\",\"much\",\"in\",\"also\",\"look\",\"new\",\"thing\",\"little\",\"got\",\"back\",\"what\",\"say\",\"even\",\"life\",\"work\",\"many\",\"take\",\"need\",\"ve\",\"lot\",\"kind\",\"good\",\"around\",\"every\",\"different\",\"come\",\"is\",\"if\",\"day\",\"year\",\"three\",\"use\",\"he\",\"re\",\"put\",\"called\",\"today\",\"percent\",\"here\",\"made\",\"thank\",\"tell\",\"great\",\"human\",\"find\",\"fact\",\"talk\",\"change\",\"let\",\"started\",\"another\",\"idea\",\"big\",\"last\",\"never\",\"better\",\"give\",\"thought\",\"went\",\"might\",\"important\",\"a\",\"000\",\"together\",\"able\",\"still\",\"problem\",\"next\",\"me\",\"part\",\"course\",\"system\",\"start\",\"show\",\"d\",\"long\",\"ago\",\"story\",\"came\",\"when\",\"brain\",\"because\",\"bit\",\"used\",\"place\",\"technology\",\"women\",\"old\",\"mean\",\"data\",\"water\",\"ll\",\"all\",\"looking\",\"question\",\"maybe\",\"found\",\"love\",\"end\",\"example\",\"10\",\"how\",\"done\",\"point\",\"four\",\"real\",\"wanted\",\"ever\",\"do\",\"school\",\"understand\",\"sort\",\"live\",\"call\",\"whole\",\"always\",\"children\",\"trying\",\"may\",\"person\",\"away\",\"believe\",\"feel\",\"try\",\"million\",\"working\",\"help\",\"everything\",\"five\",\"no\",\"country\",\"thinking\",\"second\",\"using\",\"information\",\"them\",\"money\",\"means\",\"these\",\"took\",\"power\",\"times\",\"high\",\"space\",\"then\",\"number\",\"kids\",\"home\",\"become\",\"create\",\"small\",\"for\",\"my\",\"design\",\"making\",\"best\",\"left\",\"getting\",\"future\",\"enough\",\"man\",\"on\",\"quite\",\"why\",\"city\",\"without\",\"sense\",\"happened\",\"comes\",\"social\",\"probably\",\"light\",\"less\",\"talking\",\"energy\",\"building\",\"science\",\"food\",\"she\",\"body\",\"told\",\"to\",\"interesting\",\"ask\",\"half\",\"up\",\"pretty\",\"play\",\"hard\",\"anything\",\"lives\",\"countries\",\"coming\",\"family\",\"stuff\",\"t\",\"dollars\",\"moment\",\"earth\",\"20\",\"imagine\",\"across\",\"side\",\"saw\",\"happen\",\"okay\",\"build\",\"men\",\"later\",\"experience\",\"makes\",\"asked\",\"living\",\"as\",\"seen\",\"says\",\"room\",\"hand\",\"simple\",\"health\",\"ways\",\"else\",\"case\",\"yet\",\"almost\",\"young\",\"days\",\"nothing\",\"bad\",\"care\",\"happens\",\"goes\",\"move\",\"states\",\"reason\",\"again\",\"computer\",\"open\",\"learn\",\"africa\",\"process\",\"inside\",\"someone\",\"six\",\"far\",\"project\",\"mind\",\"remember\",\"single\",\"picture\",\"whether\",\"problems\",\"saying\",\"community\",\"basically\",\"already\",\"within\",\"out\",\"looked\",\"billion\",\"possible\",\"often\",\"business\",\"planet\",\"global\",\"top\",\"everybody\",\"sure\",\"public\",\"set\",\"wrong\",\"car\",\"book\",\"keep\",\"yes\",\"answer\",\"oh\",\"sometimes\",\"hope\",\"true\",\"history\",\"war\",\"guy\",\"child\",\"instead\",\"months\",\"ideas\",\"looks\",\"matter\",\"government\",\"amazing\",\"united\",\"since\",\"bring\",\"age\",\"cells\",\"job\",\"heard\",\"face\",\"of\",\"100\",\"read\",\"control\",\"research\",\"30\",\"words\",\"u\",\"group\",\"self\",\"somebody\",\"built\",\"state\",\"woman\",\"turn\",\"beautiful\",\"friends\",\"line\",\"knew\",\"couple\",\"order\",\"form\",\"yeah\",\"internet\",\"middle\",\"music\",\"piece\",\"nature\",\"head\",\"though\",\"stop\",\"everyone\",\"are\",\"50\",\"places\",\"video\",\"learned\",\"language\",\"not\",\"run\",\"night\",\"decided\",\"study\",\"word\",\"cancer\",\"works\",\"taking\",\"became\",\"exactly\",\"species\",\"completely\",\"society\",\"education\",\"stories\",\"large\",\"share\",\"level\",\"heart\",\"america\",\"model\",\"questions\",\"gets\",\"mother\",\"god\",\"company\",\"turns\",\"happening\",\"hear\",\"art\",\"or\",\"must\",\"rather\",\"kinds\",\"students\",\"name\",\"hours\",\"disease\",\"front\",\"house\",\"huge\",\"created\",\"universe\",\"ok\",\"animals\",\"american\",\"environment\",\"worked\",\"minutes\",\"ones\",\"black\",\"perhaps\",\"1\",\"past\",\"third\",\"along\",\"finally\",\"others\",\"sound\",\"early\",\"game\",\"thousands\",\"century\",\"based\",\"least\",\"per\",\"ted\",\"lots\",\"very\",\"figure\",\"free\",\"at\",\"guys\",\"particular\",\"happy\",\"news\",\"learning\",\"entire\",\"gave\",\"machine\",\"india\",\"systems\",\"air\",\"difference\",\"outside\",\"natural\",\"taken\",\"seven\",\"given\",\"changed\",\"was\",\"leave\",\"cell\",\"15\",\"close\",\"behind\",\"cities\",\"full\",\"scale\",\"china\",\"difficult\",\"takes\",\"companies\",\"area\",\"reality\",\"seeing\",\"easy\",\"turned\",\"cost\",\"some\",\"eyes\",\"team\",\"moving\",\"population\",\"culture\",\"york\",\"hands\",\"whatever\",\"began\",\"needs\",\"terms\",\"image\",\"needed\",\"simply\",\"beginning\",\"father\",\"local\",\"realized\",\"about\",\"media\",\"parents\",\"death\",\"who\",\"walk\",\"view\",\"white\",\"market\",\"parts\",\"ocean\",\"economic\",\"eight\",\"powerful\",\"week\",\"known\",\"size\",\"felt\",\"humans\",\"certain\",\"spend\",\"longer\",\"phone\",\"wonderful\",\"grow\",\"common\",\"center\",\"tried\",\"fish\",\"land\",\"by\",\"oil\",\"with\",\"deal\",\"interested\",\"political\",\"red\",\"gone\",\"amount\",\"weeks\",\"spent\",\"opportunity\",\"paper\",\"lost\",\"national\",\"quickly\",\"blue\",\"step\",\"poor\",\"down\",\"green\",\"buy\",\"growth\",\"either\",\"patients\",\"sitting\",\"ability\",\"changes\",\"write\",\"challenge\",\"south\",\"low\",\"friend\",\"growing\",\"our\",\"field\",\"2\",\"shows\",\"born\",\"rest\",\"climate\",\"have\",\"40\",\"test\",\"street\",\"surface\",\"incredible\",\"average\",\"morning\",\"physical\",\"value\",\"program\",\"scientists\",\"pay\",\"feeling\",\"met\",\"hundreds\",\"girl\",\"behavior\",\"economy\",\"dna\",\"complex\",\"access\",\"risk\",\"animal\",\"structure\",\"feet\",\"attention\",\"areas\",\"anyone\",\"deep\",\"watch\",\"short\",\"absolutely\",\"brought\",\"speak\",\"bottom\",\"be\",\"die\",\"numbers\",\"audience\",\"stage\",\"realize\",\"images\",\"law\",\"wrote\",\"understanding\",\"books\",\"knowledge\",\"literally\",\"movement\",\"ground\",\"giving\",\"eat\",\"force\",\"seems\",\"alone\",\"telling\",\"starting\",\"hold\",\"nice\",\"sea\",\"forward\",\"developed\",\"individual\",\"kid\",\"millions\",\"support\",\"miles\",\"tools\",\"running\",\"online\",\"result\",\"where\",\"act\",\"medical\",\"technologies\",\"north\",\"development\",\"lab\",\"blood\",\"fear\",\"nobody\",\"map\",\"don\",\"personal\",\"voice\",\"issue\",\"key\",\"material\",\"recently\",\"12\",\"from\",\"theory\",\"cut\",\"cars\",\"sun\",\"fast\",\"changing\",\"playing\",\"clear\",\"especially\",\"girls\",\"soon\",\"patient\",\"choice\",\"other\",\"fly\",\"creating\",\"discovered\",\"talked\",\"relationship\",\"europe\",\"normal\",\"gives\",\"generation\",\"which\",\"dark\",\"type\",\"showed\",\"asking\",\"industry\",\"seem\",\"chance\",\"rate\",\"hour\",\"designed\",\"fun\",\"color\",\"issues\",\"university\",\"several\",\"computers\",\"innovation\",\"class\",\"tiny\",\"english\",\"save\",\"allow\",\"focus\",\"developing\",\"digital\",\"solve\",\"film\",\"network\",\"special\",\"wall\",\"situation\",\"baby\",\"more\",\"solution\",\"before\",\"box\",\"reasons\",\"knows\",\"meet\",\"stand\",\"dead\",\"begin\",\"impact\",\"anybody\",\"term\",\"pictures\",\"beyond\",\"please\",\"after\",\"produce\",\"ice\",\"shape\",\"non\",\"did\",\"resources\",\"robot\",\"cool\",\"stay\",\"likely\",\"groups\",\"rights\",\"available\",\"truth\",\"major\",\"obviously\",\"evidence\",\"experiment\",\"cause\",\"writing\",\"drug\",\"modern\",\"incredibly\",\"becomes\",\"bigger\",\"guess\",\"him\",\"nine\",\"product\",\"drugs\",\"over\",\"lived\",\"her\",\"involved\",\"perfect\",\"month\",\"google\",\"similar\",\"putting\",\"effect\",\"pick\",\"eye\",\"message\",\"web\",\"quality\",\"violence\",\"security\",\"evolution\",\"office\",\"basic\",\"indeed\",\"general\",\"solar\",\"towards\",\"drive\",\"present\",\"worth\",\"listen\",\"send\",\"revolution\",\"hundred\",\"explain\",\"died\",\"those\",\"certainly\",\"ready\",\"teach\",\"journey\",\"25\",\"walking\",\"hit\",\"led\",\"international\",\"approach\",\"200\",\"games\",\"scientific\",\"60\",\"crazy\",\"potential\",\"chinese\",\"communities\",\"device\",\"camera\",\"source\",\"carbon\",\"sex\",\"rules\",\"sounds\",\"boy\",\"reach\",\"most\",\"starts\",\"west\",\"examples\",\"3\",\"success\",\"software\",\"measure\",\"particularly\",\"totally\",\"suddenly\",\"action\",\"higher\",\"college\",\"code\",\"eventually\",\"democracy\",\"minute\",\"among\",\"sit\",\"largest\",\"showing\",\"hospital\",\"period\",\"notice\",\"mass\",\"develop\",\"dream\",\"onto\",\"add\",\"plants\",\"break\",\"memory\",\"zero\",\"everywhere\",\"11\",\"favorite\",\"speed\",\"moved\",\"schools\",\"response\",\"wants\",\"individuals\",\"table\",\"extremely\",\"movie\",\"wait\",\"anyway\",\"follow\",\"medicine\",\"trust\",\"biggest\",\"plant\",\"watching\",\"organization\",\"creative\",\"road\",\"worse\",\"choose\",\"results\",\"500\",\"lead\",\"exciting\",\"grew\",\"materials\",\"jobs\",\"positive\",\"plan\",\"poverty\",\"east\",\"safe\",\"strong\",\"fall\",\"essentially\",\"door\",\"object\",\"vision\",\"son\",\"continue\",\"happiness\",\"student\",\"doctor\",\"role\",\"including\",\"named\",\"objects\",\"extraordinary\",\"off\",\"standing\",\"skin\",\"leaders\",\"usually\",\"projects\",\"african\",\"conversation\",\"models\",\"allowed\",\"supposed\",\"interest\",\"faster\",\"police\",\"families\",\"fight\",\"tree\",\"connected\",\"cases\",\"screen\",\"5\",\"somewhere\",\"goal\",\"shown\",\"buildings\",\"finding\",\"teachers\",\"older\",\"meaning\",\"decision\",\"fire\",\"taught\",\"expect\",\"80\",\"village\",\"mine\",\"wife\",\"freedom\",\"crisis\",\"sent\",\"tells\",\"robots\",\"meant\",\"sleep\",\"mom\",\"visual\",\"thousand\",\"late\",\"however\",\"trees\",\"serious\",\"lose\",\"smart\",\"killed\",\"conditions\",\"wish\",\"ended\",\"pattern\",\"18\",\"somehow\",\"rich\",\"brains\",\"square\",\"cold\",\"impossible\",\"compassion\",\"successful\",\"fundamental\",\"spread\",\"bunch\",\"increase\",\"thanks\",\"protect\",\"service\",\"truly\",\"pieces\",\"nuclear\",\"intelligence\"],\"x1\":{\"__ndarray__\":\"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\",\"dtype\":\"float64\",\"shape\":[1000]},\"x2\":{\"__ndarray__\":\"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\",\"dtype\":\"float64\",\"shape\":[1000]}}},\"id\":\"501e55dd-5a67-45e9-bf83-3658f4c4de51\",\"type\":\"ColumnDataSource\"},{\"attributes\":{\"plot\":null,\"text\":\"word2vec T-SNE for most common words\"},\"id\":\"41be7a9b-36ef-4cdd-87cb-4c09383962f9\",\"type\":\"Title\"},{\"attributes\":{\"callback\":null},\"id\":\"0fcbd612-d481-442d-8cef-e79cdc38bad3\",\"type\":\"DataRange1d\"},{\"attributes\":{\"active_drag\":\"auto\",\"active_scroll\":\"auto\",\"active_tap\":\"auto\",\"tools\":[{\"id\":\"a9aa6841-6729-4d9f-98f4-53e7130f1c81\",\"type\":\"PanTool\"},{\"id\":\"d4383be3-c26e-45f4-a4b0-96b750645bfd\",\"type\":\"WheelZoomTool\"},{\"id\":\"831add42-9a45-4e37-8fc6-9be88588453e\",\"type\":\"ResetTool\"},{\"id\":\"5965624e-51ea-4a99-992a-c6cc7a753b37\",\"type\":\"SaveTool\"}]},\"id\":\"d394fd5c-e89b-433c-a445-e73f327d2aef\",\"type\":\"Toolbar\"},{\"attributes\":{\"below\":[{\"id\":\"3db9232b-12b8-4a49-8f1f-a6263c8b5ee5\",\"type\":\"LinearAxis\"}],\"left\":[{\"id\":\"e852b602-7474-43f7-99f8-53f3911c3cff\",\"type\":\"LinearAxis\"}],\"renderers\":[{\"id\":\"3db9232b-12b8-4a49-8f1f-a6263c8b5ee5\",\"type\":\"LinearAxis\"},{\"id\":\"d78859ad-7967-495e-903f-19e54b6fb487\",\"type\":\"Grid\"},{\"id\":\"e852b602-7474-43f7-99f8-53f3911c3cff\",\"type\":\"LinearAxis\"},{\"id\":\"e7c6545c-f9d1-4894-88f1-d9085c7c8f48\",\"type\":\"Grid\"},{\"id\":\"6cb168f0-bf38-4fc0-9775-c26e4186ebf3\",\"type\":\"GlyphRenderer\"},{\"id\":\"a13f0c20-d092-44a2-a259-5136ca820814\",\"type\":\"LabelSet\"}],\"title\":{\"id\":\"41be7a9b-36ef-4cdd-87cb-4c09383962f9\",\"type\":\"Title\"},\"tool_events\":{\"id\":\"2188e4f4-7ccc-4a9f-ad04-eb246680fd71\",\"type\":\"ToolEvents\"},\"toolbar\":{\"id\":\"d394fd5c-e89b-433c-a445-e73f327d2aef\",\"type\":\"Toolbar\"},\"toolbar_location\":\"above\",\"x_range\":{\"id\":\"827f888a-89c2-49fc-a90e-93c91f465c25\",\"type\":\"DataRange1d\"},\"y_range\":{\"id\":\"0fcbd612-d481-442d-8cef-e79cdc38bad3\",\"type\":\"DataRange1d\"}},\"id\":\"33556bad-fa14-425a-80b5-cdcbdae87b36\",\"subtype\":\"Figure\",\"type\":\"Plot\"},{\"attributes\":{\"plot\":{\"id\":\"33556bad-fa14-425a-80b5-cdcbdae87b36\",\"subtype\":\"Figure\",\"type\":\"Plot\"}},\"id\":\"a9aa6841-6729-4d9f-98f4-53e7130f1c81\",\"type\":\"PanTool\"},{\"attributes\":{},\"id\":\"2188e4f4-7ccc-4a9f-ad04-eb246680fd71\",\"type\":\"ToolEvents\"},{\"attributes\":{\"plot\":{\"id\":\"33556bad-fa14-425a-80b5-cdcbdae87b36\",\"subtype\":\"Figure\",\"type\":\"Plot\"},\"source\":{\"id\":\"501e55dd-5a67-45e9-bf83-3658f4c4de51\",\"type\":\"ColumnDataSource\"},\"text\":{\"field\":\"names\"},\"text_align\":\"center\",\"text_color\":{\"value\":\"#555555\"},\"text_font_size\":{\"value\":\"8pt\"},\"x\":{\"field\":\"x1\"},\"y\":{\"field\":\"x2\"},\"y_offset\":{\"value\":6}},\"id\":\"a13f0c20-d092-44a2-a259-5136ca820814\",\"type\":\"LabelSet\"},{\"attributes\":{},\"id\":\"11c5f29d-4aef-49de-96b3-3f656e9e47a7\",\"type\":\"BasicTicker\"},{\"attributes\":{\"callback\":null},\"id\":\"827f888a-89c2-49fc-a90e-93c91f465c25\",\"type\":\"DataRange1d\"},{\"attributes\":{\"formatter\":{\"id\":\"ca554da4-f043-4bf0-87df-0c8f74042f57\",\"type\":\"BasicTickFormatter\"},\"plot\":{\"id\":\"33556bad-fa14-425a-80b5-cdcbdae87b36\",\"subtype\":\"Figure\",\"type\":\"Plot\"},\"ticker\":{\"id\":\"d5dcad7d-4a89-4eca-89f9-42465163f1c4\",\"type\":\"BasicTicker\"}},\"id\":\"3db9232b-12b8-4a49-8f1f-a6263c8b5ee5\",\"type\":\"LinearAxis\"},{\"attributes\":{},\"id\":\"ca554da4-f043-4bf0-87df-0c8f74042f57\",\"type\":\"BasicTickFormatter\"},{\"attributes\":{\"fill_alpha\":{\"value\":0.1},\"fill_color\":{\"value\":\"#1f77b4\"},\"line_alpha\":{\"value\":0.1},\"line_color\":{\"value\":\"#1f77b4\"},\"size\":{\"units\":\"screen\",\"value\":8},\"x\":{\"field\":\"x1\"},\"y\":{\"field\":\"x2\"}},\"id\":\"53672267-7d09-4bb2-b62d-0d1baa3ba4c8\",\"type\":\"Circle\"},{\"attributes\":{\"plot\":{\"id\":\"33556bad-fa14-425a-80b5-cdcbdae87b36\",\"subtype\":\"Figure\",\"type\":\"Plot\"},\"ticker\":{\"id\":\"d5dcad7d-4a89-4eca-89f9-42465163f1c4\",\"type\":\"BasicTicker\"}},\"id\":\"d78859ad-7967-495e-903f-19e54b6fb487\",\"type\":\"Grid\"},{\"attributes\":{\"data_source\":{\"id\":\"501e55dd-5a67-45e9-bf83-3658f4c4de51\",\"type\":\"ColumnDataSource\"},\"glyph\":{\"id\":\"ed2cef81-4c02-49e1-8266-0d9f2669031b\",\"type\":\"Circle\"},\"hover_glyph\":null,\"nonselection_glyph\":{\"id\":\"53672267-7d09-4bb2-b62d-0d1baa3ba4c8\",\"type\":\"Circle\"},\"selection_glyph\":null},\"id\":\"6cb168f0-bf38-4fc0-9775-c26e4186ebf3\",\"type\":\"GlyphRenderer\"},{\"attributes\":{\"plot\":{\"id\":\"33556bad-fa14-425a-80b5-cdcbdae87b36\",\"subtype\":\"Figure\",\"type\":\"Plot\"}},\"id\":\"831add42-9a45-4e37-8fc6-9be88588453e\",\"type\":\"ResetTool\"},{\"attributes\":{\"plot\":{\"id\":\"33556bad-fa14-425a-80b5-cdcbdae87b36\",\"subtype\":\"Figure\",\"type\":\"Plot\"}},\"id\":\"d4383be3-c26e-45f4-a4b0-96b750645bfd\",\"type\":\"WheelZoomTool\"},{\"attributes\":{\"fill_color\":{\"value\":\"#1f77b4\"},\"line_color\":{\"value\":\"#1f77b4\"},\"size\":{\"units\":\"screen\",\"value\":8},\"x\":{\"field\":\"x1\"},\"y\":{\"field\":\"x2\"}},\"id\":\"ed2cef81-4c02-49e1-8266-0d9f2669031b\",\"type\":\"Circle\"},{\"attributes\":{},\"id\":\"d5dcad7d-4a89-4eca-89f9-42465163f1c4\",\"type\":\"BasicTicker\"},{\"attributes\":{\"plot\":{\"id\":\"33556bad-fa14-425a-80b5-cdcbdae87b36\",\"subtype\":\"Figure\",\"type\":\"Plot\"}},\"id\":\"5965624e-51ea-4a99-992a-c6cc7a753b37\",\"type\":\"SaveTool\"},{\"attributes\":{\"dimension\":1,\"plot\":{\"id\":\"33556bad-fa14-425a-80b5-cdcbdae87b36\",\"subtype\":\"Figure\",\"type\":\"Plot\"},\"ticker\":{\"id\":\"11c5f29d-4aef-49de-96b3-3f656e9e47a7\",\"type\":\"BasicTicker\"}},\"id\":\"e7c6545c-f9d1-4894-88f1-d9085c7c8f48\",\"type\":\"Grid\"}],\"root_ids\":[\"33556bad-fa14-425a-80b5-cdcbdae87b36\"]},\"title\":\"Bokeh Application\",\"version\":\"0.12.4\"}};\n",
       "            var render_items = [{\"docid\":\"d49a819c-a57f-41cc-a4a2-5671a9dd53a5\",\"elementid\":\"a5a07df3-858f-46ee-aff4-b3774fc1eca9\",\"modelid\":\"33556bad-fa14-425a-80b5-cdcbdae87b36\"}];\n",
       "            \n",
       "            Bokeh.embed.embed_items(docs_json, render_items);\n",
       "          };\n",
       "          if (document.readyState != \"loading\") fn();\n",
       "          else document.addEventListener(\"DOMContentLoaded\", fn);\n",
       "        })();\n",
       "      },\n",
       "      function(Bokeh) {\n",
       "      }\n",
       "    ];\n",
       "  \n",
       "    function run_inline_js() {\n",
       "      \n",
       "      if ((window.Bokeh !== undefined) || (force === true)) {\n",
       "        for (var i = 0; i < inline_js.length; i++) {\n",
       "          inline_js[i](window.Bokeh);\n",
       "        }if (force === true) {\n",
       "          display_loaded();\n",
       "        }} else if (Date.now() < window._bokeh_timeout) {\n",
       "        setTimeout(run_inline_js, 100);\n",
       "      } else if (!window._bokeh_failed_load) {\n",
       "        console.log(\"Bokeh: BokehJS failed to load within specified timeout.\");\n",
       "        window._bokeh_failed_load = true;\n",
       "      } else if (force !== true) {\n",
       "        var cell = $(document.getElementById(\"a5a07df3-858f-46ee-aff4-b3774fc1eca9\")).parents('.cell').data().cell;\n",
       "        cell.output_area.append_execute_result(NB_LOAD_WARNING)\n",
       "      }\n",
       "  \n",
       "    }\n",
       "  \n",
       "    if (window._bokeh_is_loading === 0) {\n",
       "      console.log(\"Bokeh: BokehJS loaded, going straight to plotting\");\n",
       "      run_inline_js();\n",
       "    } else {\n",
       "      load_libs(js_urls, function() {\n",
       "        console.log(\"Bokeh: BokehJS plotting callback run at\", now());\n",
       "        run_inline_js();\n",
       "      });\n",
       "    }\n",
       "  }(this));\n",
       "</script>"
      ]
     },
     "metadata": {},
     "output_type": "display_data"
    }
   ],
   "source": [
    "\n",
    "p = figure(tools=\"pan,wheel_zoom,reset,save\",\n",
    "           toolbar_location=\"above\",\n",
    "           title=\"word2vec T-SNE for most common words\")\n",
    "\n",
    "source = ColumnDataSource(data=dict(x1=words_top_ted_tsne[:,0],\n",
    "                                    x2=words_top_ted_tsne[:,1],\n",
    "                                    names=words_top_ted))\n",
    "\n",
    "p.scatter(x=\"x1\", y=\"x2\", size=8, source=source)\n",
    "\n",
    "labels = LabelSet(x=\"x1\", y=\"x2\", text=\"names\", y_offset=6,\n",
    "                  text_font_size=\"8pt\", text_color=\"#555555\",\n",
    "                  source=source, text_align='center')\n",
    "p.add_layout(labels)\n",
    "\n",
    "show(p)"
   ]
  },
  {
   "cell_type": "code",
   "execution_count": null,
   "metadata": {
    "collapsed": false
   },
   "outputs": [],
   "source": []
  }
 ],
 "metadata": {
  "kernelspec": {
   "display_name": "Python 2",
   "language": "python",
   "name": "python2"
  },
  "language_info": {
   "codemirror_mode": {
    "name": "ipython",
    "version": 2
   },
   "file_extension": ".py",
   "mimetype": "text/x-python",
   "name": "python",
   "nbconvert_exporter": "python",
   "pygments_lexer": "ipython2",
   "version": "2.7.12"
  },
  "widgets": {
   "state": {},
   "version": "1.1.2"
  }
 },
 "nbformat": 4,
 "nbformat_minor": 0
}
