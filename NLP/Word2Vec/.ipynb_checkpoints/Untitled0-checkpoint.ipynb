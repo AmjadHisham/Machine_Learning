{
 "cells": [
  {
   "cell_type": "code",
   "execution_count": 2,
   "metadata": {
    "collapsed": false
   },
   "outputs": [],
   "source": [
    "import numpy as np\n",
    "import os\n",
    "from random import shuffle\n",
    "import re"
   ]
  },
  {
   "cell_type": "code",
   "execution_count": null,
   "metadata": {
    "collapsed": false
   },
   "outputs": [],
   "source": []
  },
  {
   "cell_type": "code",
   "execution_count": 3,
   "metadata": {
    "collapsed": false
   },
   "outputs": [
    {
     "data": {
      "text/html": [
       "\n",
       "    <div class=\"bk-root\">\n",
       "        <a href=\"http://bokeh.pydata.org\" target=\"_blank\" class=\"bk-logo bk-logo-small bk-logo-notebook\"></a>\n",
       "        <span id=\"7832bc80-3bf6-450c-a31a-61d0c935829e\">Loading BokehJS ...</span>\n",
       "    </div>"
      ]
     },
     "metadata": {},
     "output_type": "display_data"
    },
    {
     "data": {
      "application/javascript": [
       "\n",
       "(function(global) {\n",
       "  function now() {\n",
       "    return new Date();\n",
       "  }\n",
       "\n",
       "  var force = true;\n",
       "\n",
       "  if (typeof (window._bokeh_onload_callbacks) === \"undefined\" || force === true) {\n",
       "    window._bokeh_onload_callbacks = [];\n",
       "    window._bokeh_is_loading = undefined;\n",
       "  }\n",
       "\n",
       "\n",
       "  \n",
       "  if (typeof (window._bokeh_timeout) === \"undefined\" || force === true) {\n",
       "    window._bokeh_timeout = Date.now() + 5000;\n",
       "    window._bokeh_failed_load = false;\n",
       "  }\n",
       "\n",
       "  var NB_LOAD_WARNING = {'data': {'text/html':\n",
       "     \"<div style='background-color: #fdd'>\\n\"+\n",
       "     \"<p>\\n\"+\n",
       "     \"BokehJS does not appear to have successfully loaded. If loading BokehJS from CDN, this \\n\"+\n",
       "     \"may be due to a slow or bad network connection. Possible fixes:\\n\"+\n",
       "     \"</p>\\n\"+\n",
       "     \"<ul>\\n\"+\n",
       "     \"<li>re-rerun `output_notebook()` to attempt to load from CDN again, or</li>\\n\"+\n",
       "     \"<li>use INLINE resources instead, as so:</li>\\n\"+\n",
       "     \"</ul>\\n\"+\n",
       "     \"<code>\\n\"+\n",
       "     \"from bokeh.resources import INLINE\\n\"+\n",
       "     \"output_notebook(resources=INLINE)\\n\"+\n",
       "     \"</code>\\n\"+\n",
       "     \"</div>\"}};\n",
       "\n",
       "  function display_loaded() {\n",
       "    if (window.Bokeh !== undefined) {\n",
       "      document.getElementById(\"7832bc80-3bf6-450c-a31a-61d0c935829e\").textContent = \"BokehJS successfully loaded.\";\n",
       "    } else if (Date.now() < window._bokeh_timeout) {\n",
       "      setTimeout(display_loaded, 100)\n",
       "    }\n",
       "  }\n",
       "\n",
       "  function run_callbacks() {\n",
       "    window._bokeh_onload_callbacks.forEach(function(callback) { callback() });\n",
       "    delete window._bokeh_onload_callbacks\n",
       "    console.info(\"Bokeh: all callbacks have finished\");\n",
       "  }\n",
       "\n",
       "  function load_libs(js_urls, callback) {\n",
       "    window._bokeh_onload_callbacks.push(callback);\n",
       "    if (window._bokeh_is_loading > 0) {\n",
       "      console.log(\"Bokeh: BokehJS is being loaded, scheduling callback at\", now());\n",
       "      return null;\n",
       "    }\n",
       "    if (js_urls == null || js_urls.length === 0) {\n",
       "      run_callbacks();\n",
       "      return null;\n",
       "    }\n",
       "    console.log(\"Bokeh: BokehJS not loaded, scheduling load and callback at\", now());\n",
       "    window._bokeh_is_loading = js_urls.length;\n",
       "    for (var i = 0; i < js_urls.length; i++) {\n",
       "      var url = js_urls[i];\n",
       "      var s = document.createElement('script');\n",
       "      s.src = url;\n",
       "      s.async = false;\n",
       "      s.onreadystatechange = s.onload = function() {\n",
       "        window._bokeh_is_loading--;\n",
       "        if (window._bokeh_is_loading === 0) {\n",
       "          console.log(\"Bokeh: all BokehJS libraries loaded\");\n",
       "          run_callbacks()\n",
       "        }\n",
       "      };\n",
       "      s.onerror = function() {\n",
       "        console.warn(\"failed to load library \" + url);\n",
       "      };\n",
       "      console.log(\"Bokeh: injecting script tag for BokehJS library: \", url);\n",
       "      document.getElementsByTagName(\"head\")[0].appendChild(s);\n",
       "    }\n",
       "  };var element = document.getElementById(\"7832bc80-3bf6-450c-a31a-61d0c935829e\");\n",
       "  if (element == null) {\n",
       "    console.log(\"Bokeh: ERROR: autoload.js configured with elementid '7832bc80-3bf6-450c-a31a-61d0c935829e' but no matching script tag was found. \")\n",
       "    return false;\n",
       "  }\n",
       "\n",
       "  var js_urls = [\"https://cdn.pydata.org/bokeh/release/bokeh-0.12.4.min.js\", \"https://cdn.pydata.org/bokeh/release/bokeh-widgets-0.12.4.min.js\"];\n",
       "\n",
       "  var inline_js = [\n",
       "    function(Bokeh) {\n",
       "      Bokeh.set_log_level(\"info\");\n",
       "    },\n",
       "    \n",
       "    function(Bokeh) {\n",
       "      \n",
       "      document.getElementById(\"7832bc80-3bf6-450c-a31a-61d0c935829e\").textContent = \"BokehJS is loading...\";\n",
       "    },\n",
       "    function(Bokeh) {\n",
       "      console.log(\"Bokeh: injecting CSS: https://cdn.pydata.org/bokeh/release/bokeh-0.12.4.min.css\");\n",
       "      Bokeh.embed.inject_css(\"https://cdn.pydata.org/bokeh/release/bokeh-0.12.4.min.css\");\n",
       "      console.log(\"Bokeh: injecting CSS: https://cdn.pydata.org/bokeh/release/bokeh-widgets-0.12.4.min.css\");\n",
       "      Bokeh.embed.inject_css(\"https://cdn.pydata.org/bokeh/release/bokeh-widgets-0.12.4.min.css\");\n",
       "    }\n",
       "  ];\n",
       "\n",
       "  function run_inline_js() {\n",
       "    \n",
       "    if ((window.Bokeh !== undefined) || (force === true)) {\n",
       "      for (var i = 0; i < inline_js.length; i++) {\n",
       "        inline_js[i](window.Bokeh);\n",
       "      }if (force === true) {\n",
       "        display_loaded();\n",
       "      }} else if (Date.now() < window._bokeh_timeout) {\n",
       "      setTimeout(run_inline_js, 100);\n",
       "    } else if (!window._bokeh_failed_load) {\n",
       "      console.log(\"Bokeh: BokehJS failed to load within specified timeout.\");\n",
       "      window._bokeh_failed_load = true;\n",
       "    } else if (force !== true) {\n",
       "      var cell = $(document.getElementById(\"7832bc80-3bf6-450c-a31a-61d0c935829e\")).parents('.cell').data().cell;\n",
       "      cell.output_area.append_execute_result(NB_LOAD_WARNING)\n",
       "    }\n",
       "\n",
       "  }\n",
       "\n",
       "  if (window._bokeh_is_loading === 0) {\n",
       "    console.log(\"Bokeh: BokehJS loaded, going straight to plotting\");\n",
       "    run_inline_js();\n",
       "  } else {\n",
       "    load_libs(js_urls, function() {\n",
       "      console.log(\"Bokeh: BokehJS plotting callback run at\", now());\n",
       "      run_inline_js();\n",
       "    });\n",
       "  }\n",
       "}(this));"
      ]
     },
     "metadata": {},
     "output_type": "display_data"
    }
   ],
   "source": [
    "from bokeh.models import ColumnDataSource, LabelSet\n",
    "from bokeh.plotting import figure, show, output_file\n",
    "from bokeh.io import output_notebook\n",
    "output_notebook()"
   ]
  },
  {
   "cell_type": "code",
   "execution_count": 4,
   "metadata": {
    "collapsed": false
   },
   "outputs": [],
   "source": [
    "import urllib\n",
    "import zipfile\n",
    "import lxml.etree"
   ]
  },
  {
   "cell_type": "code",
   "execution_count": 4,
   "metadata": {
    "collapsed": true
   },
   "outputs": [],
   "source": [
    "# Download the dataset if it's not already there: this may take a minute as it is 75MB\n",
    "if not os.path.isfile('ted_en-20160408.zip'):\n",
    "    urllib.urlretrieve(\"https://wit3.fbk.eu/get.php?path=XML_releases/xml/ted_en-20160408.zip&filename=ted_en-20160408.zip\", filename=\"ted_en-20160408.zip\")"
   ]
  },
  {
   "cell_type": "code",
   "execution_count": 5,
   "metadata": {
    "collapsed": false
   },
   "outputs": [],
   "source": [
    "# For now, we're only interested in the subtitle text, so let's extract that from the XML:\n",
    "with zipfile.ZipFile('ted_en-20160408.zip', 'r') as z:\n",
    "    doc = lxml.etree.parse(z.open('ted_en-20160408.xml', 'r'))\n",
    "input_text = '\\n'.join(doc.xpath('//content/text()'))\n",
    "del doc"
   ]
  },
  {
   "cell_type": "code",
   "execution_count": 7,
   "metadata": {
    "collapsed": false
   },
   "outputs": [
    {
     "data": {
      "text/plain": [
       "u' baby does.\\n(Video) Hyowon Gweon: See this? (Ball squeaks) Did you see that? (Ball squeaks) Cool. See this one? (Ball squeaks) Wow.\\nLaura Schulz: Told you. (Laughs)\\n(Vide'"
      ]
     },
     "execution_count": 7,
     "metadata": {},
     "output_type": "execute_result"
    }
   ],
   "source": [
    "i = input_text.find(\"Hyowon Gweon: See this?\")\n",
    "input_text[i-20:i+150]"
   ]
  },
  {
   "cell_type": "code",
   "execution_count": 8,
   "metadata": {
    "collapsed": true
   },
   "outputs": [],
   "source": [
    "input_text_noparens = re.sub(r'\\([^)]*\\)', '', input_text)"
   ]
  },
  {
   "cell_type": "code",
   "execution_count": 10,
   "metadata": {
    "collapsed": false
   },
   "outputs": [
    {
     "data": {
      "text/plain": [
       "u\"hat the baby does.\\n Hyowon Gweon: See this?  Did you see that?  Cool. See this one?  Wow.\\nLaura Schulz: Told you. \\n HG: See this one?  Hey Clara, this one's for you. You \""
      ]
     },
     "execution_count": 10,
     "metadata": {},
     "output_type": "execute_result"
    }
   ],
   "source": [
    "i = input_text_noparens.find(\"Hyowon Gweon: See this?\")\n",
    "input_text_noparens[i-20:i+150]"
   ]
  },
  {
   "cell_type": "code",
   "execution_count": 108,
   "metadata": {
    "collapsed": false
   },
   "outputs": [
    {
     "data": {
      "text/plain": [
       "[u\"Here are two reasons companies fail: they only do more of the same, or they only do what's new\",\n",
       " u'To me the real, real solution to quality growth is figuring out the balance between two activities: exploration and exploitation',\n",
       " u' Both are necessary, but it can be too much of a good thing',\n",
       " u'Consider Facit',\n",
       " u\" I'm actually old enough to remember them\"]"
      ]
     },
     "execution_count": 108,
     "metadata": {},
     "output_type": "execute_result"
    }
   ],
   "source": [
    "sentences_strings_ted = []\n",
    "for line in input_text_noparens.split('\\n'):\n",
    "    m = re.match(r'^(?:(?P<precolon>[^:]{,20}):)?(?P<postcolon>.*)$', line)\n",
    "    sentences_strings_ted.extend(sent for sent in m.groupdict()['postcolon'].split('.') if sent)\n",
    "\n",
    "# Uncomment if you need to save some RAM: these strings are about 50MB.\n",
    "# del input_text, input_text_noparens\n",
    "\n",
    "# Let's view the first few:\n",
    "sentences_strings_ted[:5]"
   ]
  },
  {
   "cell_type": "code",
   "execution_count": 113,
   "metadata": {
    "collapsed": false
   },
   "outputs": [],
   "source": [
    "from stop_words import get_stop_words\n",
    "\n",
    "stop_words = get_stop_words('english')\n",
    "sentences_strings_stop_ted = []\n",
    "for i in range(len(sentences_strings_ted)):\n",
    "    text = ' '.join([word for word in sentences_strings_ted[i].split() if word not in stop_words])\n",
    "    sentences_strings_stop_ted.append(text)"
   ]
  },
  {
   "cell_type": "code",
   "execution_count": 114,
   "metadata": {
    "collapsed": false
   },
   "outputs": [
    {
     "data": {
      "text/plain": [
       "[u'Here two reasons companies fail: same, new',\n",
       " u'To real, real solution quality growth figuring balance two activities: exploration exploitation',\n",
       " u'Both necessary, can much good thing',\n",
       " u'Consider Facit',\n",
       " u\"I'm actually old enough remember\"]"
      ]
     },
     "execution_count": 114,
     "metadata": {},
     "output_type": "execute_result"
    }
   ],
   "source": [
    "sentences_strings_stop_ted[:5]"
   ]
  },
  {
   "cell_type": "code",
   "execution_count": 115,
   "metadata": {
    "collapsed": true
   },
   "outputs": [],
   "source": [
    "sentences_ted = []\n",
    "for sent_str in sentences_strings_stop_ted:\n",
    "    tokens = re.sub(r\"[^a-z0-9]+\", \" \", sent_str.lower()).split()\n",
    "    sentences_ted.append(tokens)"
   ]
  },
  {
   "cell_type": "code",
   "execution_count": 116,
   "metadata": {
    "collapsed": false
   },
   "outputs": [
    {
     "data": {
      "text/plain": [
       "266694"
      ]
     },
     "execution_count": 116,
     "metadata": {},
     "output_type": "execute_result"
    }
   ],
   "source": [
    "len(sentences_ted)"
   ]
  },
  {
   "cell_type": "code",
   "execution_count": 107,
   "metadata": {
    "collapsed": false
   },
   "outputs": [
    {
     "data": {
      "text/plain": [
       "u'To real, real solution quality growth figuring balance two activities: exploration exploitation'"
      ]
     },
     "execution_count": 107,
     "metadata": {},
     "output_type": "execute_result"
    }
   ],
   "source": []
  },
  {
   "cell_type": "code",
   "execution_count": 117,
   "metadata": {
    "collapsed": false
   },
   "outputs": [
    {
     "data": {
      "text/plain": [
       "[u'here', u'two', u'reasons', u'companies', u'fail', u'same', u'new']"
      ]
     },
     "execution_count": 117,
     "metadata": {},
     "output_type": "execute_result"
    }
   ],
   "source": [
    "sentences_ted[0]"
   ]
  },
  {
   "cell_type": "code",
   "execution_count": 118,
   "metadata": {
    "collapsed": false
   },
   "outputs": [],
   "source": [
    "from gensim.models import Word2Vec"
   ]
  },
  {
   "cell_type": "code",
   "execution_count": 119,
   "metadata": {
    "collapsed": true
   },
   "outputs": [],
   "source": [
    "model_ted = Word2Vec(sentences_ted, size=100, window=5, min_count=10, workers=4)"
   ]
  },
  {
   "cell_type": "code",
   "execution_count": 120,
   "metadata": {
    "collapsed": false
   },
   "outputs": [
    {
     "data": {
      "text/plain": [
       "[(u'woman', 0.9057620167732239),\n",
       " (u'son', 0.818816065788269),\n",
       " (u'daughter', 0.8039252161979675),\n",
       " (u'lady', 0.7846283912658691),\n",
       " (u'girl', 0.7785911560058594),\n",
       " (u'grandfather', 0.778223991394043),\n",
       " (u'boy', 0.7778786420822144),\n",
       " (u'husband', 0.7696517705917358),\n",
       " (u'sister', 0.7684677839279175),\n",
       " (u'mother', 0.7657552361488342)]"
      ]
     },
     "execution_count": 120,
     "metadata": {},
     "output_type": "execute_result"
    }
   ],
   "source": [
    "model_ted.most_similar(\"man\")"
   ]
  },
  {
   "cell_type": "code",
   "execution_count": 121,
   "metadata": {
    "collapsed": false
   },
   "outputs": [
    {
     "data": {
      "text/plain": [
       "[(u'machine', 0.8299948573112488),\n",
       " (u'software', 0.8003312945365906),\n",
       " (u'computers', 0.770119309425354),\n",
       " (u'interface', 0.743710458278656),\n",
       " (u'robot', 0.7431676387786865),\n",
       " (u'algorithm', 0.7400389909744263),\n",
       " (u'code', 0.733677089214325),\n",
       " (u'3d', 0.7330121397972107),\n",
       " (u'device', 0.6988760232925415),\n",
       " (u'web', 0.6882848739624023)]"
      ]
     },
     "execution_count": 121,
     "metadata": {},
     "output_type": "execute_result"
    }
   ],
   "source": [
    "model_ted.most_similar(\"computer\")"
   ]
  },
  {
   "cell_type": "code",
   "execution_count": 122,
   "metadata": {
    "collapsed": false
   },
   "outputs": [],
   "source": [
    "from nltk import *"
   ]
  },
  {
   "cell_type": "code",
   "execution_count": 123,
   "metadata": {
    "collapsed": false
   },
   "outputs": [],
   "source": [
    "words = np.concatenate(sentences_ted)"
   ]
  },
  {
   "cell_type": "code",
   "execution_count": 124,
   "metadata": {
    "collapsed": true
   },
   "outputs": [],
   "source": [
    "fdist = FreqDist(words)"
   ]
  },
  {
   "cell_type": "code",
   "execution_count": 125,
   "metadata": {
    "collapsed": false
   },
   "outputs": [],
   "source": [
    "common = fdist.most_common(1000)\n",
    "words_top_ted = []\n",
    "for count, words in enumerate(common):\n",
    "    words_top_ted.append(str(words[0]))"
   ]
  },
  {
   "cell_type": "code",
   "execution_count": 131,
   "metadata": {
    "collapsed": false
   },
   "outputs": [
    {
     "data": {
      "text/plain": [
       "['meaning',\n",
       " 'decision',\n",
       " 'fire',\n",
       " 'taught',\n",
       " 'expect',\n",
       " '80',\n",
       " 'village',\n",
       " 'mine',\n",
       " 'wife',\n",
       " 'freedom',\n",
       " 'crisis',\n",
       " 'sent',\n",
       " 'tells',\n",
       " 'robots',\n",
       " 'meant',\n",
       " 'sleep',\n",
       " 'mom',\n",
       " 'visual',\n",
       " 'thousand',\n",
       " 'late',\n",
       " 'however',\n",
       " 'trees',\n",
       " 'serious',\n",
       " 'lose',\n",
       " 'smart',\n",
       " 'killed',\n",
       " 'conditions',\n",
       " 'wish',\n",
       " 'ended',\n",
       " 'pattern',\n",
       " '18',\n",
       " 'somehow',\n",
       " 'rich',\n",
       " 'brains',\n",
       " 'square',\n",
       " 'cold',\n",
       " 'impossible',\n",
       " 'compassion',\n",
       " 'successful',\n",
       " 'fundamental',\n",
       " 'spread',\n",
       " 'bunch',\n",
       " 'increase',\n",
       " 'thanks',\n",
       " 'protect',\n",
       " 'service',\n",
       " 'truly',\n",
       " 'pieces',\n",
       " 'nuclear',\n",
       " 'intelligence']"
      ]
     },
     "execution_count": 131,
     "metadata": {},
     "output_type": "execute_result"
    }
   ],
   "source": [
    "words_top_ted[950:]"
   ]
  },
  {
   "cell_type": "code",
   "execution_count": 126,
   "metadata": {
    "collapsed": false
   },
   "outputs": [],
   "source": [
    "words_top_vec_ted = model_ted[words_top_ted]"
   ]
  },
  {
   "cell_type": "code",
   "execution_count": 127,
   "metadata": {
    "collapsed": true
   },
   "outputs": [],
   "source": [
    "from sklearn.manifold import TSNE\n",
    "tsne = TSNE(n_components=2, random_state=0)\n",
    "words_top_ted_tsne = tsne.fit_transform(words_top_vec_ted)"
   ]
  },
  {
   "cell_type": "code",
   "execution_count": 128,
   "metadata": {
    "collapsed": false
   },
   "outputs": [
    {
     "data": {
      "text/html": [
       "\n",
       "\n",
       "    <div class=\"bk-root\">\n",
       "        <div class=\"bk-plotdiv\" id=\"b417ff82-438a-4a24-8421-6ef9312c39d5\"></div>\n",
       "    </div>\n",
       "<script type=\"text/javascript\">\n",
       "  \n",
       "  (function(global) {\n",
       "    function now() {\n",
       "      return new Date();\n",
       "    }\n",
       "  \n",
       "    var force = false;\n",
       "  \n",
       "    if (typeof (window._bokeh_onload_callbacks) === \"undefined\" || force === true) {\n",
       "      window._bokeh_onload_callbacks = [];\n",
       "      window._bokeh_is_loading = undefined;\n",
       "    }\n",
       "  \n",
       "  \n",
       "    \n",
       "    if (typeof (window._bokeh_timeout) === \"undefined\" || force === true) {\n",
       "      window._bokeh_timeout = Date.now() + 0;\n",
       "      window._bokeh_failed_load = false;\n",
       "    }\n",
       "  \n",
       "    var NB_LOAD_WARNING = {'data': {'text/html':\n",
       "       \"<div style='background-color: #fdd'>\\n\"+\n",
       "       \"<p>\\n\"+\n",
       "       \"BokehJS does not appear to have successfully loaded. If loading BokehJS from CDN, this \\n\"+\n",
       "       \"may be due to a slow or bad network connection. Possible fixes:\\n\"+\n",
       "       \"</p>\\n\"+\n",
       "       \"<ul>\\n\"+\n",
       "       \"<li>re-rerun `output_notebook()` to attempt to load from CDN again, or</li>\\n\"+\n",
       "       \"<li>use INLINE resources instead, as so:</li>\\n\"+\n",
       "       \"</ul>\\n\"+\n",
       "       \"<code>\\n\"+\n",
       "       \"from bokeh.resources import INLINE\\n\"+\n",
       "       \"output_notebook(resources=INLINE)\\n\"+\n",
       "       \"</code>\\n\"+\n",
       "       \"</div>\"}};\n",
       "  \n",
       "    function display_loaded() {\n",
       "      if (window.Bokeh !== undefined) {\n",
       "        document.getElementById(\"b417ff82-438a-4a24-8421-6ef9312c39d5\").textContent = \"BokehJS successfully loaded.\";\n",
       "      } else if (Date.now() < window._bokeh_timeout) {\n",
       "        setTimeout(display_loaded, 100)\n",
       "      }\n",
       "    }\n",
       "  \n",
       "    function run_callbacks() {\n",
       "      window._bokeh_onload_callbacks.forEach(function(callback) { callback() });\n",
       "      delete window._bokeh_onload_callbacks\n",
       "      console.info(\"Bokeh: all callbacks have finished\");\n",
       "    }\n",
       "  \n",
       "    function load_libs(js_urls, callback) {\n",
       "      window._bokeh_onload_callbacks.push(callback);\n",
       "      if (window._bokeh_is_loading > 0) {\n",
       "        console.log(\"Bokeh: BokehJS is being loaded, scheduling callback at\", now());\n",
       "        return null;\n",
       "      }\n",
       "      if (js_urls == null || js_urls.length === 0) {\n",
       "        run_callbacks();\n",
       "        return null;\n",
       "      }\n",
       "      console.log(\"Bokeh: BokehJS not loaded, scheduling load and callback at\", now());\n",
       "      window._bokeh_is_loading = js_urls.length;\n",
       "      for (var i = 0; i < js_urls.length; i++) {\n",
       "        var url = js_urls[i];\n",
       "        var s = document.createElement('script');\n",
       "        s.src = url;\n",
       "        s.async = false;\n",
       "        s.onreadystatechange = s.onload = function() {\n",
       "          window._bokeh_is_loading--;\n",
       "          if (window._bokeh_is_loading === 0) {\n",
       "            console.log(\"Bokeh: all BokehJS libraries loaded\");\n",
       "            run_callbacks()\n",
       "          }\n",
       "        };\n",
       "        s.onerror = function() {\n",
       "          console.warn(\"failed to load library \" + url);\n",
       "        };\n",
       "        console.log(\"Bokeh: injecting script tag for BokehJS library: \", url);\n",
       "        document.getElementsByTagName(\"head\")[0].appendChild(s);\n",
       "      }\n",
       "    };var element = document.getElementById(\"b417ff82-438a-4a24-8421-6ef9312c39d5\");\n",
       "    if (element == null) {\n",
       "      console.log(\"Bokeh: ERROR: autoload.js configured with elementid 'b417ff82-438a-4a24-8421-6ef9312c39d5' but no matching script tag was found. \")\n",
       "      return false;\n",
       "    }\n",
       "  \n",
       "    var js_urls = [];\n",
       "  \n",
       "    var inline_js = [\n",
       "      function(Bokeh) {\n",
       "        (function() {\n",
       "          var fn = function() {\n",
       "            var docs_json = {\"4739835c-7854-4f42-9581-dd94afb443f7\":{\"roots\":{\"references\":[{\"attributes\":{\"plot\":{\"id\":\"0a5757aa-4442-40b9-9661-69a3da7666c1\",\"subtype\":\"Figure\",\"type\":\"Plot\"}},\"id\":\"54c408ae-15b9-4652-84d1-8c98347a5358\",\"type\":\"PanTool\"},{\"attributes\":{\"dimension\":1,\"plot\":{\"id\":\"0a5757aa-4442-40b9-9661-69a3da7666c1\",\"subtype\":\"Figure\",\"type\":\"Plot\"},\"ticker\":{\"id\":\"7cdb072b-4876-4cde-992b-a047eea88b40\",\"type\":\"BasicTicker\"}},\"id\":\"14ddb7c6-5fe9-40ff-8bb7-4fd3fd1676bb\",\"type\":\"Grid\"},{\"attributes\":{\"plot\":null,\"text\":\"word2vec T-SNE for most common words\"},\"id\":\"69550fdb-b9ce-4265-ad55-c285001a82f7\",\"type\":\"Title\"},{\"attributes\":{\"below\":[{\"id\":\"b366a3cd-3cfe-46eb-ab44-d8104b74b152\",\"type\":\"LinearAxis\"}],\"left\":[{\"id\":\"3726d8ee-c000-4a0a-9be2-355e4a44f637\",\"type\":\"LinearAxis\"}],\"renderers\":[{\"id\":\"b366a3cd-3cfe-46eb-ab44-d8104b74b152\",\"type\":\"LinearAxis\"},{\"id\":\"1936290d-2c8a-4825-b5de-4c960fa9f3ea\",\"type\":\"Grid\"},{\"id\":\"3726d8ee-c000-4a0a-9be2-355e4a44f637\",\"type\":\"LinearAxis\"},{\"id\":\"14ddb7c6-5fe9-40ff-8bb7-4fd3fd1676bb\",\"type\":\"Grid\"},{\"id\":\"7421242d-f178-4283-b01c-2c26f5d1027f\",\"type\":\"GlyphRenderer\"},{\"id\":\"2f907041-fb76-4544-b6bc-726ebdae4eef\",\"type\":\"LabelSet\"}],\"title\":{\"id\":\"69550fdb-b9ce-4265-ad55-c285001a82f7\",\"type\":\"Title\"},\"tool_events\":{\"id\":\"0ce4fd63-6075-49e6-9e52-4a6bda477340\",\"type\":\"ToolEvents\"},\"toolbar\":{\"id\":\"c494cdc0-f265-4314-8810-86715ae0e97a\",\"type\":\"Toolbar\"},\"toolbar_location\":\"above\",\"x_range\":{\"id\":\"f07572b7-e6e0-46e5-b6bd-59f2d9593790\",\"type\":\"DataRange1d\"},\"y_range\":{\"id\":\"37f435e0-1358-4998-bde8-1047d939f967\",\"type\":\"DataRange1d\"}},\"id\":\"0a5757aa-4442-40b9-9661-69a3da7666c1\",\"subtype\":\"Figure\",\"type\":\"Plot\"},{\"attributes\":{\"callback\":null},\"id\":\"37f435e0-1358-4998-bde8-1047d939f967\",\"type\":\"DataRange1d\"},{\"attributes\":{\"fill_color\":{\"value\":\"#1f77b4\"},\"line_color\":{\"value\":\"#1f77b4\"},\"size\":{\"units\":\"screen\",\"value\":8},\"x\":{\"field\":\"x1\"},\"y\":{\"field\":\"x2\"}},\"id\":\"7d0c1432-3223-4ee6-9804-be90189c11b8\",\"type\":\"Circle\"},{\"attributes\":{\"callback\":null,\"column_names\":[\"x2\",\"x1\",\"names\"],\"data\":{\"names\":[\"i\",\"and\",\"s\",\"so\",\"can\",\"it\",\"one\",\"people\",\"like\",\"now\",\"just\",\"we\",\"but\",\"the\",\"know\",\"going\",\"this\",\"you\",\"think\",\"see\",\"really\",\"get\",\"that\",\"m\",\"world\",\"us\",\"time\",\"actually\",\"way\",\"will\",\"years\",\"things\",\"go\",\"well\",\"want\",\"they\",\"make\",\"right\",\"said\",\"something\",\"first\",\"two\",\"there\",\"much\",\"in\",\"also\",\"look\",\"new\",\"thing\",\"little\",\"got\",\"back\",\"what\",\"say\",\"even\",\"life\",\"work\",\"many\",\"take\",\"need\",\"ve\",\"lot\",\"kind\",\"good\",\"around\",\"every\",\"different\",\"come\",\"is\",\"if\",\"day\",\"year\",\"three\",\"use\",\"he\",\"re\",\"put\",\"called\",\"today\",\"percent\",\"here\",\"made\",\"thank\",\"tell\",\"great\",\"human\",\"find\",\"fact\",\"talk\",\"change\",\"let\",\"started\",\"another\",\"idea\",\"big\",\"last\",\"never\",\"better\",\"give\",\"thought\",\"went\",\"might\",\"important\",\"a\",\"000\",\"together\",\"able\",\"still\",\"problem\",\"next\",\"me\",\"part\",\"course\",\"system\",\"start\",\"show\",\"d\",\"long\",\"ago\",\"story\",\"came\",\"when\",\"brain\",\"because\",\"bit\",\"used\",\"place\",\"technology\",\"women\",\"old\",\"mean\",\"data\",\"water\",\"ll\",\"all\",\"looking\",\"question\",\"maybe\",\"found\",\"love\",\"end\",\"example\",\"10\",\"how\",\"done\",\"point\",\"four\",\"real\",\"wanted\",\"ever\",\"do\",\"school\",\"understand\",\"sort\",\"live\",\"call\",\"whole\",\"always\",\"children\",\"trying\",\"may\",\"person\",\"away\",\"believe\",\"feel\",\"try\",\"million\",\"working\",\"help\",\"everything\",\"five\",\"no\",\"country\",\"thinking\",\"second\",\"using\",\"information\",\"them\",\"money\",\"means\",\"these\",\"took\",\"power\",\"times\",\"high\",\"space\",\"then\",\"number\",\"kids\",\"home\",\"become\",\"create\",\"small\",\"for\",\"my\",\"design\",\"making\",\"best\",\"left\",\"getting\",\"future\",\"enough\",\"man\",\"on\",\"quite\",\"why\",\"city\",\"without\",\"sense\",\"happened\",\"comes\",\"social\",\"probably\",\"light\",\"less\",\"talking\",\"energy\",\"building\",\"science\",\"food\",\"she\",\"body\",\"told\",\"to\",\"interesting\",\"half\",\"ask\",\"up\",\"pretty\",\"play\",\"hard\",\"anything\",\"lives\",\"countries\",\"coming\",\"family\",\"stuff\",\"t\",\"dollars\",\"moment\",\"earth\",\"20\",\"imagine\",\"across\",\"side\",\"saw\",\"happen\",\"okay\",\"build\",\"men\",\"later\",\"experience\",\"makes\",\"asked\",\"living\",\"as\",\"seen\",\"says\",\"room\",\"hand\",\"simple\",\"health\",\"ways\",\"else\",\"case\",\"yet\",\"almost\",\"young\",\"days\",\"nothing\",\"bad\",\"care\",\"happens\",\"goes\",\"move\",\"states\",\"reason\",\"again\",\"computer\",\"open\",\"learn\",\"africa\",\"process\",\"inside\",\"someone\",\"six\",\"far\",\"project\",\"mind\",\"remember\",\"single\",\"picture\",\"whether\",\"problems\",\"saying\",\"community\",\"basically\",\"already\",\"within\",\"out\",\"looked\",\"billion\",\"possible\",\"often\",\"business\",\"planet\",\"global\",\"top\",\"everybody\",\"sure\",\"public\",\"set\",\"wrong\",\"car\",\"book\",\"keep\",\"yes\",\"answer\",\"oh\",\"sometimes\",\"hope\",\"true\",\"history\",\"war\",\"guy\",\"child\",\"instead\",\"months\",\"ideas\",\"looks\",\"matter\",\"government\",\"amazing\",\"united\",\"since\",\"bring\",\"age\",\"cells\",\"job\",\"heard\",\"face\",\"of\",\"100\",\"read\",\"control\",\"research\",\"30\",\"words\",\"u\",\"group\",\"self\",\"somebody\",\"built\",\"state\",\"woman\",\"turn\",\"beautiful\",\"friends\",\"line\",\"knew\",\"couple\",\"order\",\"form\",\"yeah\",\"internet\",\"middle\",\"music\",\"piece\",\"nature\",\"head\",\"though\",\"stop\",\"everyone\",\"are\",\"50\",\"places\",\"video\",\"learned\",\"language\",\"not\",\"run\",\"night\",\"decided\",\"study\",\"word\",\"cancer\",\"works\",\"taking\",\"became\",\"exactly\",\"species\",\"completely\",\"society\",\"education\",\"stories\",\"large\",\"share\",\"level\",\"heart\",\"america\",\"model\",\"questions\",\"gets\",\"mother\",\"god\",\"company\",\"turns\",\"happening\",\"hear\",\"art\",\"or\",\"must\",\"rather\",\"kinds\",\"students\",\"name\",\"hours\",\"disease\",\"front\",\"house\",\"huge\",\"created\",\"universe\",\"ok\",\"animals\",\"american\",\"environment\",\"worked\",\"minutes\",\"ones\",\"black\",\"perhaps\",\"1\",\"past\",\"third\",\"along\",\"finally\",\"others\",\"sound\",\"early\",\"game\",\"thousands\",\"century\",\"based\",\"least\",\"per\",\"ted\",\"lots\",\"very\",\"figure\",\"free\",\"at\",\"guys\",\"particular\",\"happy\",\"news\",\"learning\",\"entire\",\"gave\",\"machine\",\"india\",\"systems\",\"air\",\"difference\",\"outside\",\"natural\",\"taken\",\"seven\",\"given\",\"changed\",\"was\",\"leave\",\"cell\",\"15\",\"close\",\"behind\",\"cities\",\"full\",\"scale\",\"china\",\"difficult\",\"takes\",\"companies\",\"area\",\"reality\",\"seeing\",\"easy\",\"turned\",\"cost\",\"some\",\"eyes\",\"team\",\"moving\",\"population\",\"culture\",\"york\",\"hands\",\"whatever\",\"began\",\"needs\",\"terms\",\"image\",\"needed\",\"simply\",\"beginning\",\"father\",\"local\",\"realized\",\"about\",\"media\",\"parents\",\"death\",\"who\",\"walk\",\"view\",\"white\",\"market\",\"parts\",\"ocean\",\"economic\",\"eight\",\"powerful\",\"week\",\"known\",\"size\",\"felt\",\"humans\",\"certain\",\"spend\",\"longer\",\"phone\",\"wonderful\",\"grow\",\"common\",\"center\",\"tried\",\"fish\",\"land\",\"by\",\"oil\",\"with\",\"deal\",\"interested\",\"political\",\"red\",\"gone\",\"amount\",\"weeks\",\"spent\",\"opportunity\",\"paper\",\"lost\",\"national\",\"quickly\",\"blue\",\"step\",\"poor\",\"down\",\"green\",\"buy\",\"growth\",\"either\",\"patients\",\"sitting\",\"ability\",\"changes\",\"write\",\"challenge\",\"south\",\"low\",\"friend\",\"growing\",\"our\",\"field\",\"2\",\"shows\",\"born\",\"rest\",\"climate\",\"have\",\"40\",\"test\",\"street\",\"surface\",\"incredible\",\"average\",\"morning\",\"physical\",\"value\",\"program\",\"scientists\",\"pay\",\"feeling\",\"met\",\"hundreds\",\"girl\",\"behavior\",\"economy\",\"dna\",\"complex\",\"access\",\"risk\",\"animal\",\"structure\",\"feet\",\"attention\",\"areas\",\"anyone\",\"deep\",\"watch\",\"short\",\"absolutely\",\"brought\",\"speak\",\"bottom\",\"be\",\"die\",\"numbers\",\"audience\",\"stage\",\"realize\",\"images\",\"law\",\"wrote\",\"understanding\",\"books\",\"knowledge\",\"literally\",\"movement\",\"ground\",\"giving\",\"eat\",\"force\",\"seems\",\"alone\",\"telling\",\"starting\",\"hold\",\"nice\",\"sea\",\"forward\",\"developed\",\"individual\",\"kid\",\"millions\",\"support\",\"miles\",\"tools\",\"running\",\"online\",\"result\",\"where\",\"act\",\"medical\",\"technologies\",\"north\",\"development\",\"lab\",\"blood\",\"fear\",\"nobody\",\"map\",\"don\",\"personal\",\"voice\",\"issue\",\"key\",\"material\",\"recently\",\"12\",\"from\",\"theory\",\"cut\",\"cars\",\"sun\",\"fast\",\"changing\",\"playing\",\"clear\",\"especially\",\"girls\",\"soon\",\"patient\",\"choice\",\"other\",\"fly\",\"creating\",\"discovered\",\"talked\",\"relationship\",\"europe\",\"normal\",\"gives\",\"generation\",\"which\",\"dark\",\"type\",\"showed\",\"asking\",\"industry\",\"seem\",\"chance\",\"rate\",\"hour\",\"designed\",\"fun\",\"color\",\"issues\",\"university\",\"several\",\"computers\",\"innovation\",\"class\",\"tiny\",\"english\",\"save\",\"allow\",\"focus\",\"developing\",\"digital\",\"solve\",\"film\",\"network\",\"special\",\"wall\",\"situation\",\"baby\",\"more\",\"solution\",\"before\",\"box\",\"reasons\",\"knows\",\"meet\",\"stand\",\"dead\",\"begin\",\"impact\",\"anybody\",\"term\",\"pictures\",\"beyond\",\"please\",\"after\",\"produce\",\"ice\",\"shape\",\"non\",\"did\",\"resources\",\"robot\",\"cool\",\"stay\",\"likely\",\"groups\",\"rights\",\"available\",\"truth\",\"major\",\"obviously\",\"evidence\",\"experiment\",\"cause\",\"writing\",\"drug\",\"modern\",\"incredibly\",\"becomes\",\"bigger\",\"guess\",\"him\",\"nine\",\"product\",\"drugs\",\"over\",\"lived\",\"her\",\"involved\",\"perfect\",\"month\",\"google\",\"similar\",\"putting\",\"effect\",\"pick\",\"eye\",\"message\",\"web\",\"quality\",\"violence\",\"security\",\"evolution\",\"office\",\"basic\",\"indeed\",\"general\",\"solar\",\"towards\",\"drive\",\"present\",\"worth\",\"listen\",\"send\",\"revolution\",\"hundred\",\"explain\",\"died\",\"those\",\"certainly\",\"ready\",\"teach\",\"journey\",\"25\",\"walking\",\"hit\",\"led\",\"international\",\"approach\",\"200\",\"games\",\"scientific\",\"60\",\"crazy\",\"potential\",\"chinese\",\"communities\",\"device\",\"camera\",\"source\",\"carbon\",\"sex\",\"rules\",\"sounds\",\"boy\",\"reach\",\"most\",\"starts\",\"west\",\"examples\",\"3\",\"success\",\"software\",\"measure\",\"particularly\",\"totally\",\"suddenly\",\"action\",\"higher\",\"college\",\"code\",\"eventually\",\"democracy\",\"minute\",\"among\",\"sit\",\"largest\",\"showing\",\"hospital\",\"period\",\"notice\",\"mass\",\"develop\",\"dream\",\"onto\",\"add\",\"plants\",\"break\",\"memory\",\"zero\",\"everywhere\",\"11\",\"favorite\",\"speed\",\"moved\",\"schools\",\"response\",\"wants\",\"individuals\",\"table\",\"extremely\",\"movie\",\"wait\",\"anyway\",\"follow\",\"medicine\",\"trust\",\"biggest\",\"plant\",\"watching\",\"organization\",\"creative\",\"road\",\"worse\",\"choose\",\"results\",\"500\",\"lead\",\"exciting\",\"grew\",\"materials\",\"jobs\",\"positive\",\"plan\",\"poverty\",\"east\",\"safe\",\"strong\",\"fall\",\"essentially\",\"door\",\"object\",\"vision\",\"son\",\"continue\",\"happiness\",\"student\",\"doctor\",\"role\",\"including\",\"named\",\"objects\",\"extraordinary\",\"off\",\"standing\",\"skin\",\"leaders\",\"usually\",\"projects\",\"african\",\"conversation\",\"models\",\"allowed\",\"supposed\",\"interest\",\"faster\",\"police\",\"families\",\"fight\",\"tree\",\"connected\",\"cases\",\"screen\",\"5\",\"somewhere\",\"goal\",\"shown\",\"buildings\",\"finding\",\"teachers\",\"older\",\"meaning\",\"decision\",\"fire\",\"taught\",\"expect\",\"80\",\"village\",\"mine\",\"wife\",\"freedom\",\"crisis\",\"sent\",\"tells\",\"robots\",\"meant\",\"sleep\",\"mom\",\"visual\",\"thousand\",\"late\",\"however\",\"trees\",\"serious\",\"lose\",\"smart\",\"killed\",\"conditions\",\"wish\",\"ended\",\"pattern\",\"18\",\"somehow\",\"rich\",\"brains\",\"square\",\"cold\",\"impossible\",\"compassion\",\"successful\",\"fundamental\",\"spread\",\"bunch\",\"increase\",\"thanks\",\"protect\",\"service\",\"truly\",\"pieces\",\"nuclear\",\"intelligence\"],\"x1\":{\"__ndarray__\":\"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\",\"dtype\":\"float64\",\"shape\":[1000]},\"x2\":{\"__ndarray__\":\"JEvmA2PWJUAbW8ckf6UjQMIeMZfBMhVAhKlQaCaWI0AcvDJvz0QawJyq9rohMS9AHYZb4uS3HUC/7TQB3UwiwE9xnmvy5RlAePmVxo84B0DPBI1QxycSQOFN63+4evK/B4Rz/CqYI0A5CbSr0roQQADEplpi4CBAME0g6IdlHUAs0y2CFjYNQI8mI8g0kxJAxWjrE+0XFEBHiJP8cQcoQGtF35OWOhXAAo3d3wsSMEAHK7E5IC4vQEpH5T5XGSBAf9E9k5G5KsBz3qcpSRQhwHUezx3H8xxAD4TvY0FpJEAZArIbM2vkv8nDgl5b0BvAj1oHlZS2KsDB7K+7Nk4gwH2EnXgGhi1AK344p/GgA0Ag0q7Fug8gQNPMgFbMhPK/6YUvNELkMMA4XLutscA0QGH34aDpzBhAH7C9cCZz6T+k0aSj7jfvv6kesPj7sTDAVeXIsyHwJUCacNokfTWuP32fYiwQFClALM8pmReHLkASrnhu4EkhQDNmxAeUwx5ApVSWtbHl1b83YNX2z9okQJ5oZsQvZRvAleKUXWBjLEB3vYQttQEjQPt3rrgTVRxAODW+qaZg8L8OZA+E3N0kwGZO4hMxaA1AUl1VetqsMcDimreN+3sxQMY1BOQL7BPADWGeItH5+j+blSiew5kPwPtFR40GMcq/WjyAv7rE5z9BPq2Z3mwsQI7dR4xEzRpA+7RPvPI7FUBciiDhRZIwQG3XZn61eQnAGBC8npgeEkAEY8nHRKUoQAUJCOgQAy3AfUdwLwnIMMBaXcyhfrgcQCZVGcdCaQvA6ffk+ek4K0A0tWnkfzUvQF7lXWgkNNM/J4YnqkdO6z8dVhsgd54zwLQ/+8/J6iVAs98funnhMMCSKV2CWnUKQNydBqf9QQhApRfWNLFoDUDcbJKjXh/1P2mwth4zKyNAklEKOWGo+79+UXBuV2ofQBbYOlfr2Ps/r/C1bLC1HECCMbeie+wMwNMVyEzS4xlA7IYv3QDo9b+QyyQA5eX/P3uRMJtzFSvA/3gjgcOs9j9vHQFKxwDwvzsbkSDmjixAMW76lpwxAMBu/JBBSl0cwBf0qELP3gPAQjLVJgskAkAtWPfGt1UkwF8jGIleEzTARg93mbHC+b+uqnRcYTEbwAKvKiLklO0/ufu1i6pnFMCZ688IfD4qQHN5mE3i4QPApUvnWUohBsDgBJnzYRupv0MecBL+1RVARcwO2qB0I0BP2eb/UcghQKEewL9X0A1AQogelVkMJEBOxCR4dAMswCUcgN6d0BtAVwimJeENHMDPwV9GyH8nQLQnZj7LxiZAhMu+azWxA0DCQsip9Fryv2nhYNcjqQJAvhCW9ibaL0Ct6mFUPF4VQNiwklI0ZyfAP0GQs9vjHMD7Y/Dp2i0gQLCkMCTLIBhAdaUHvYmLL0CfASisO4IeQEpLwfVx0AjAt33tQVrnIEA64WKMHugJwF4toIy/cuO/cZcfAAhvEsCEKo1eP+IRQC7wxa/vbytATuReD1dKHsAycJ9fZz0zwHC0ljm3fw1AMkBJ6QTxDMBc6ra57KwcQHQu1Xn0AzHAoPift5DNCkDBB9eqnlG7v9PzTDqEufQ/xkwQb1RpI0CEXzd0IqQkwFTUKcR8wyFAMBEqMvoIyr80hWQ4hG4oQGHUz/vGOBhAqc/hDAyeGUCAwGoi0WIhQIF1stoVuSnAgqJPoMtaHcDpFqQqb8ADwA1/i3/7Ax7AfuHkL3bBL0A2weT0ezQTQCBcNBQ/iPw/P1Z/UuYlHcCClDBmMBM0wMCFZp/n9AxAGPhV8FLsGcCxzUrnJwLSP6NZDY9yszHAuTzOq5zLGECBNGMhQWwrwAiXvcdXZRVAcIsd27m8HkA7RKKP3tQcQIBAlA4lhRdAz/ah/2TLCcDQJItmw/8BwBdIwygaou8/CoUSasRMEMCNN/RTYSUcwIHniLZqLfC/KiMOHhwgIMD1TnVrUKwOwHc9QW4DHSpAmnmceCQlJUCOOUZxldIWwEAunq6eAyrAZIHi2s57M0AetSJJ6UQYQCiXWjXKDhTABzbyvt6jCEBlK3ZWSRT+P+nIBWxonxPAKwKQ0SPLCkD/4jpW8uEwwPWidCZKHfE/SWVnHL3mM0BMdDEpCCswQDo0gz8GDCZAnaS1IHKnBECfmGFRb5UWwLtwR5J5/SxAsGWOZ/qdF8CLqVwgWbwPQEwMbavEuC3ATOzDYdBWFEDO8DLhgU8DwLeXtUafihTAsPW7aDCbG0AoNcKXDMccwH/6fjrearE/9HcSIb/OMUDLlh0G1f6gPyEsebXgKx5ATqUZwd6GLkBn5C2y3OsoQIXBZIMSZhrAUWrlbs0mLUBgDCFUULQLwOHptNIpQidAaWUUuWCyBECke4/3Ri0hQJYX6/o0/gtAcNnjdc10MsCV7ceBvKz3v7xEySWeMzBAVliNUO/2F8DmbBPEPQEkQGo6nb7PGN4/N4iHK1xX1T+TClXrocIkwE4qmveSnirAtv/f8iINMUBwsuuDS+QqwJ3pr5LBygNAbqY4gj2UF0DGEkW+mMQ0wCmidDqf6xlAXsf9+qjiMUDH2L0OcJ8zwBbNxCdf2yhAbNorcY1VLEAwOHIeof4zQMFDmpm45hfAzo6vwYx4I0DDEM1eTqQWQAHC12dRDBTAiuXqIijCJ8AF7/Ryf2UswNONpPNji+m/vIVuXGzSH0DPV3xjAAz1v/JsZzPoAxdAxkiNyA7bJkAncsPDAxUSwCpPf2LCeRlAx4it7MlkMkCUAn37wb4zQH781wU1+QhAKzn8N0FmKMCESqoW/AcQQKZA7k6y8RFAGNTEIA/Z9r/+gLgr9PvkP8twJomCN+Q/hlhjjbp0KcBqQqGG/S0swCsvMBWDtcc/q8/JNs7C5z/8rZoEzqscwH14oCzsbBdAtk2Zb4OgG0C444QhNp4vQFaZ9Dm95i3ANdEqp4UYtz8NM8FMzmQkQGAAEgRgCyFACB6rwN0xK0CAauwRrdwCQASybPgHjyzAPdkhGL3EEEC9VsIVzcMwQOalPU6RLLE/KrBA+rnRMcBo3gf6S0XWvwQ0a2jgbiPAllhLLZyA6r/o+JBpjcgcQLhEFq3QxxpAMUIGxAaxJkAhZZkuDCj/P4u1qeJ4hhbACs1ESPiWG0DcLM3mBesjwD8JbyObHRtA4OX3rxYPAUBXy20St8IdQM1O6Rrgli5AGrLiEdMDF8Dh4RwSEQQ0wGu5BKph7N+/h25oXxf9AcA3jydUm00lwCullDdj5zFArPT4G9ajGMD9D6aqrBs1QL0NCTccXrq/wbHjG1jgAkDnfgP77hAnwLO/E3k8n/k/bHXAceOkDEB8jyvatMUwQOQBiRGlASHAU+nECLKOKUBPWIFuJscYQPqZrnEXOgnA2g53chxBGEAkKovhrxYAwMorLcu4nRhAlFowe9I16D/eA4HsvVUBQG8B71LE3SvADl9n+tnhEcD/0MBbaC4cwN1wRe9BdiNAzug5a+nuK8DtwBKE8DwQQH+cdP8eTSlA4+efqlRTsT8taOH/UrcmwO0whSP12gZA0P6wpm9RLMDy04JpcB8iwDVbiKnM9i9A4CW5CB0JIMBdHeUhraslQJSucI31hiHAxcxFEEzyEcCVPNJjzHopQFMAqHBnDwhAUs2K5d5NNMAlk5D1P4EcwGqZSFzIrhFAoMXqPRK/H8ALyDfd1XszwE0hogBeYhFACHp8jPpyKsDvr7lyFg4lwNEXv03YrgDAtECjGM6OnT9LPpSDULndP9rAK3ZHGSnAU6mgTa6BF8A+U7O9BRUvQN+STu3WIxNAieCw2oojK8BQtJOj+rc0QJdYL12KgAHAdmZ7JVw1McDy4K9B3yUYwCpieU3I+x5AxLWonetmGEACMVLwG+shQPYr/xqEOi/A1fnpEThYIkD7fso2hvoiQEDKAqxrof0/BOVKhOAHMUCdAS1gAGr4v2tNz33krSdApYzFAfKCu7+r0mxCDo0BwPZCmdcC2DPAce8vKPjQKsDyaBsqHhcjQMo8q2aQrgrA/tL+VVcmIcCxQGkk9HXmP1vw0NpDNi1AT882DjoVKECKvurv2qLQv8X+Keo7ASDAhv/yavboEUCacUe/AEciwHwr2OY2jgFArjSwpp8zMUDmLtFlL6cdwEjlK2cxtwRA2YfmwrQ1J0DHQwHQecMKQOkSewm0Xh/ApS5G8vsrKMDD22H56PEbQCvRYaFAwwdAaeDNdbtPIEAWdiBnKjMCwIPPrBpCgxVAdqTzByoPLMAFqziboQEPQFRPYhmTWArAnIIfbzg/LkCTLDEcp+YVwEDye2eSCPW/+jnPg/fII8B00fK+s9IUwKppVr6ZJx5Ahh6UhFP+GUAk7hEYnScXwK9CDvaNrRFAKibUV0pkBcCSYn496lgEQBKmw7u/7BRAilmOj2zFJ8DhEvKQZwQXwL+/BkOdyizAX4cvbr5GIsAfby0PXzsyQJ8AItUkCjJAHthXpEJjAUDm42iBHJ0IQNAwUVILzQZAirArxV+iGkDxMt243x4nQNvSMZwu/ijAZmCsgpK/1r9o5/QqvxIPwCojqaKl3ivAFxBIiheUD8CwO+f26+4zQIV2n7xlnOG/l009rCnLNMDubWg+1dEiQLsj98iVgB5AYIhYOrhBLEDRQgEvrEYnQNkcjJ9sWyHA4Yos421GKUCs1IyCQ20kwCaUkfhNfiJAOX+bEZz+MsCLFOXZeYQewO5Mq/IZIvA/6vNZSqqktj/14p3HYxkxwCJCh9Lk/hVAB/2sZ4jRFUDF0TWgrHsXwJFf9j6OBSNAcjL8M/tIFMCOwKwALNMkQNmVZjgzrxZAbjg3xNrZFkA8Ijgg3UkRQHz4h/Zwur4/YM47LY9E4b8o+HVpl7wdQCwXmP05SR7Aklcsgv+nIUCvFWKSUI0rwBfwjWYQIhdA8Tl35KwFMECRygKulTYMwCUlw+pgKzBALVA/GRlkCEDP+70OAIwcwMokcfdzazHAgkUjVkG8AkDskrSMdWAFQDIENRDb5xFADBtVjedTKEA4sQ9LmhMlQO1qe5kIQTPAYwiR9/SwKUBQqikmUCUyQOubddOR2yrAqTR4J4AiIkAoFdVG5LkGQL7Y5ghbzyvArL+DqdzPwL9s84Aj+sUhQD37xj0voyXAJ3H8iyx6LEBnKBLdoNMDQDS8g3vTMyBASUy4wNUy7T/9K62OQdUVwIZYmgEkKQnAvNzO5R6dCMA3/bw5U0spQAIss87MhiPAFcQx7+IrMECMPE7cuZgUwP2HK1WDywLAaKI8UnyPKcBHXwUF/PgyQEBRzBeLUCFAMTirctFkDMCHDeEeVM8QwO6OfdXEB9y/rlGhvfyyJkClxxOBmWcSwJSl8hmx1g5A3QWlBZVMF0DVdSa9idoTwB7mNhu9iCbALtV/XFk6B8CQlMCDBxD1P3+T+R4hHSHAYAoYzpyfKsA2e5gh0q8hwOeulVUchgrAsUtxdkBAKUB2WdxPeequP2joVSiM7zNAF1K5XFYZI8CxJ6Kef/YoQEGYJM5usDBAYAFIeiOoF8AHNRIkWtQxwOTqWgLiN/Q/KITATqN9LcABQm5BnVQWwEj822vxxixAfEx6C28o9D9m3geEETEmQGy5APVGngdA+MVb31RPBMAk97rQJ7ylvwwz9VyrHSRAqM19A4S6EUBjK99xyQQuQEvyT6XitPU/1A35NiJXMEBKVXMrRW3Rv/HFprUAUS9AdnOa9BfDLkDCUTkgFfIrQE+M4mwLHS5A6qc7SL59CUAjDQbPk7cUwNujMr9ly/Q/9tvP7l2lHsDnrNgghD0zQHpPq2dhrx3AvjW7orcKBcCx/WbnZR0swNBDn8U9PgXAwkwZ0bFZDsARX4YNJK4jQMOKC3vp0h/AA7hrpbU/KMA/LgITGXIlQF4Ssbj1QDNALIJ4JKY1IUAfHHVcnpIQwJyiUFttNjBA2umfZh3PMkCeLDjigNorQJWb3rZR4xXABtm/r/qaEEBwNX/VATMfwJSK/mQ4bTFAyZDysvc3GMDoC/vQNcT8PyHFUYqkhBzASFrBtGmcEcDJR+gSgWcuwLco0VjWYg3AiYPt7JikEsBurP+OxaQbQNOB+I0xTf+/D7RsNxg6GkAOAYUJMa40wIDq3Tci6SBAEqG7TPoLIcBBS7RPlvchQBGV9THlqRXAF+LLt7i49T9L0Rj/ItQzwAC6OBRZexFARfoo3jP+MUCyA1lyhcIwQAlkkkFRFRFATSuU7mShMMDjly5A3ucnQKEiAPf03ARAKC6GdjKN4b83ofuuXxQjwAkj5Vuekx/Apwurg/2zKUB5/KD/eDD7P2m/uBmT5iDAQ1K68/v3MsD+eoj4aYUQwJhYNrvRlcK/z8jIKLwzGMCN7V1TE3EgQL6vB0sYdgZAwdlfWil1BcBw5v99PxEPwLHP4UetoidA0l2zoO5VH0Bnj4HIuawwwBeQQJbKFf4/VG+eG8eUKkAZEyxVEq/Cv5QgGXDHpixAVZUeo2NRKUAVtnj98d8jQBkN14r0UP0/A4WsjNynHcDNracxfV4XQPTXWLa6RzNAK566zrCQIkAzgugfMOEmQBNTilg0YhbAV275azXaFUAw8sHOXfkgQBeRNgCLShRAidj2rfuoI0Ajh7+PQ4EFwDckNkgiFyLALKNIglNbAECm/CucimMhwCKgwepk+d4/vcRGY/GALkA3m6ZHgkH+v/XwHoW9fy9AAr/uTWSICUCaaaVI8z8pQIR2Kap3YuS//UR+izNJ+b/Yrl+n+oEmQIzPoV4ksQZASJvVgL1QFkDQbY0yNRQrQJwxq3Fo+QhAZFntKyG2MEA6DamFHg8oQPgSMh7FPcu/eF/EmWUTrD9cKIpaEpUPwB7toItkAjPASHuZvnTYGMCKuChPwqgwwOXeiGRi6xVAZGyzqhXhMECPB40kSjgiQJFAixF68NG/txOZtqjnKkA3zimI5ecFwGPUn3jsViXAY0gjkLYKFUCY5SU805MuwPRMa9n5WBvAkeMMVFe3IsCw0om4WuIoQAuYDyJyCQHA7WaJqqFwwr+NjgiInAskQGfYfkbRnBhA35jY7VGl3b+vPxQduWAWQFNHLlklDRLAKVUzl39kBkAZXcs05V4eQPV0k7eFIyHAHHWCcAc2McAtHzlX+DArQDHYDAfo/gNAPLWH2thVK0DFt0T/WwIrQC2ZJltdVzFAE4FTy6P7KUDx8qW76UD+P50U/ynnOiRAcmRszqX/B0Dxh7i1WTsQwKYv/FI5BirA8mANriYwJ0BcZkgRRF0WQDSTYLe+ZgXAnS9l1XJMBsA+ADa8NRouQPNjHJdT+vo/dbDEr5faEsCUow4iKC8PwD7GvsAo7gHALOhyciVdLMAUrzns6ZodQLzUpN5QGR5A36D5suRfEcBiCqt6pZoDQE6dJ+xjjDFAcOM+uFNSHkDpsJ7vcgQWwB6L5hSaO/W/0KMOfIV1IsCLbBI6IwH6v/39B2ALqBDAYW65Bi95DsCBKO/h+14uwFrlcwA81Po/3z2kxd26CECEHkBc2xcjQKes0OvB9hfAR7qpTf4rJcCq+80H0ZsxwASz0UoWjB5A+Jvl20jjG8B75DN3YXQlwKrvWzliECRAV6UYP+/SIMAVwAYvvlQoQCbmVPcxKRvA3jjcKR+7E0Df2sM0ewXSv6gDYOfShiBAOR1JNgwtFcDBEh2qOr8jQLuN5MfjUxtAcuYCYi/zEkCyQC+jt8ExQMRDJc2MofS/5Gk4gulVFsCi6tEuAk2dP3I4Hu7a7A3AyN+pgpR+/D8McRL9+cAxQBpf6VcbbBvAx3pvNEx4EkCHbC3AsmMmQEDP+8BOxChAG8FFF/ytL0BQpc2XqOQUQHmCKyZSjv+/cKyAPaGgvb/aOVDb29a2v7OiJLQTwCFA7lpftNCbJ0ASbwiz56kYQHgYNdMqICPAHkt5TVIeFEBD4FQCBLUwQK0m+Un4RyFATPanvmsw4z9wHXEa20sTQA9n/77JEADASG0/33U8IkBOlcK0eOYHQKiXcfRx1ylAsXR+umMnuL/K9NEEV0QiwAfsHHqeIR7AQpLXpjRiBcD8p1ruAl32vxzJHtud4xDAXnZzLgcQ/j9CiyJsxA8FQDSYtXuLNRFAt28fP/634T9vDdZ4sQIgwO5mmD5QYR7AARwW8gE0/r/+2oq2HvUWwNZS4dPgaPw/mMvufvig5b8hiEyB3h8gQKsa2p4zIwvAkgRGQsfEMsAGRXpOyPsLQPi22VlJ5R7AKy8ZQ8YJK0Cy7dx2DF4gwKomwZ9YmAjAAFQib+H69D/57rsgWxkAQM9o1AArRy3A3SZPr5YuI0DChX8u8YIUQDXFawSy9DBA7iBUQc+O6z82wbJ5m5AqQIaqX7OfayhArPPsG9ADF0A29mYRQeofQPK8DXV1pve/uvp91k3KHcCByFrrOPkiwCwiI6S0iPg/svoaNv6FJ8Ac+AGH8nbtP64YgskzAvc/Lji0F9oS/L8jrH6DNtQtQJu1nxvkridAsmmP1Ei2L0BWUULM9LIUQH9+5eNjI/I/moq9LJlPGEA0h1EAR6UsQH+8yzzE2B3AoihRgS5VMsBAjGBA/D4iQMwh0F/GqyHAmbYg69MBC8AgZyeqg67CP13z59ju0BtAS1aPGoHbAkA9b02oZU0ZQIfc6wDIHjXASncj8wEnMUBHz1af6uAsQFeyFn2qIf6/VIyXZLfWIsBMpr6H9XgRQOpkrLmfLTTAxqTmCeRlIkBdcDccHmodwAuFDg6k9jPAOJ5C2Cm/C0DkWqbnR+LpP27BtxtuyifAYZxjslMJI8AHTJp9eQYiQDGXUGmW3yVAP2KgpmANG0AWcycavy0uQF43N1M1U/m/O/b5TyPMEED7p9iR9jwpQJpqKfrVUyDA1GiRkApMKUBVTnGUasUIwIE9FVrVWi5AjfJoXc6+LMATuIZiJqEbwAWnjLREmjTAB2SkL7LtyD+5KLLJPzceQPqAT54SJRJA8K8V27Rd4L+OeWLtMhgPQPnYCDjW1yZAJqHvN7vI/b/RTlBbW/gLwHHCQDnkiCXAEOxx/EobIEAdcwtzUWcnQEQdaSqFCB/AVZaaEfqlJUCAvwA8RjUSwPpZQSA2gCtAykk+CSuxEcAcbmk2ZcggQFqnS5KJmifAKkWfAUqjI0BcEeMq4RUqQFOOS0Os9CtAnbE7FRw/EEA5SUEOqPcVQApacUCQVDFAP9Nep9pGK0CU3DZT4U0pQI7avYt3cyxAF4jkJJTjGUB0xL9OO7gKwJ8HZs0gSi5Auj8rkUI4M8BwZ8KwyIYawLyhuCJvbSpAJNlw62NzHcC5mtit/MomwEQHAM+cntc/lCs/nQh8EkDiKulsxL4hwLabQW2u9zFAKdzrTVE2F8BaG7g55dwjQPrPQeso1hhAqb82J3+6EkAF6V+0eMImQN5o9hHIYfG/zufqlZI7CMCno79AlGURwKjyQ36QqitAzcUr4JtjJEASvuieX9AkwBTNd/vJu9G/JmACo4WTMEB33zuAUhDnv14jID0tRCVAEPZhq+EMEEB5om60SHs0wAFNWMrvmRdAT2Pdq6TcDkAgb9ZQaIEfwCvbml6iAxpAfPQWWQyxJcASe33SgUHGPwMnwFCCog3AdghJQ1eNHMB828h3yV8uwEo8qMOmMBJAtQPng2pc9D9HDp8oELUrQHh++zGokhpA2Sl4ppD5MUAq3zgkp80hQHCmDBbACei/LOj6cSBDGMCsBgRaWlYmQKDx5pcmRse/6QChiFxVJcDq13rsWWwPwJXAytpzhAHA567GB7xNEsBAFJwlv34iwPUPQ9hGzCFA5Hz7mFQbBUDJW4J19jAwQNaD9pYYZzFAWLuT4krkJ0Be5dS55FIiwMCrzGxXhQ1A8ldptL94IMCXG4YEiaEpwLP5kbPdtxVA/VIOf4MwEkByvZ2F7nAOQDeTWrx1+Q5ALh+LvvuL87/4U1MIOEzgv+xpH8aIiCfAdL/yAvFQI8DwWQYxEEsmQDRbQ6Q09i9APAkSKDIEFkDeyTfbFC4AwFwGyLRnYSZAc5fHU2RpNMCb3NBlgkcvQD/tAlOW2QvAwN+WoU/8EsC9YNk710oqQPON4l57gwJAptU0hiBFJ8AFw4m7x0rOvwqzf3kMndy/+S7gYtqaEcCf1K+uZmswQOF3c3fqMwJAOf3Wz8dpD0DnCegsOjA0wCz3EXyQBijARFm2MIY4IcAtSQDJKisUwEo2W8KhygrAnoofFWWYF8CovQ7r/VUgwAHoBQ4OSBtANp321g7qIEAvi5I2rYULQKIJHU1j/ipAuFLRbbyUEsApOv/UvmAaQPlGGU83dTLABqJgD4dZI8Ba+q6LMfLeP3cbXXKOEC9A0nyM3SeK8T82td1+VFcoQHkmDCDj4Ps/YoM1P8HTIcBoPhUSbC+wPzZZkSYJvRVAvpOAuPMtIMA5vi2UzEAhQMKawaE4ITLAJtTFxGBvBkAwGA8H6QYKwIgKoBcnaCVAf+AmThppMcAu78dcHtUvQJ51qL/vr/c/u97qJXxbAMAHif0MabPxP6LMHl8CNes/X1XgrO65GUDqaC5JqxkWQJ4osiIsBgzAut1zC7thBUBKYlglyqoXwAD058d/FyfAlhJlSQKh979aLBmzcMsiQAeUNqGptgnANkAy1A2Z9D8=\",\"dtype\":\"float64\",\"shape\":[1000]}}},\"id\":\"f369b936-2868-47cc-8067-3868b89601f0\",\"type\":\"ColumnDataSource\"},{\"attributes\":{\"callback\":null},\"id\":\"f07572b7-e6e0-46e5-b6bd-59f2d9593790\",\"type\":\"DataRange1d\"},{\"attributes\":{\"plot\":{\"id\":\"0a5757aa-4442-40b9-9661-69a3da7666c1\",\"subtype\":\"Figure\",\"type\":\"Plot\"},\"ticker\":{\"id\":\"a9ef0700-6f5f-4ea7-aeb0-44e2fcfb959f\",\"type\":\"BasicTicker\"}},\"id\":\"1936290d-2c8a-4825-b5de-4c960fa9f3ea\",\"type\":\"Grid\"},{\"attributes\":{\"plot\":{\"id\":\"0a5757aa-4442-40b9-9661-69a3da7666c1\",\"subtype\":\"Figure\",\"type\":\"Plot\"}},\"id\":\"dff9161c-0f66-43e3-8571-10720437454b\",\"type\":\"ResetTool\"},{\"attributes\":{\"plot\":{\"id\":\"0a5757aa-4442-40b9-9661-69a3da7666c1\",\"subtype\":\"Figure\",\"type\":\"Plot\"},\"source\":{\"id\":\"f369b936-2868-47cc-8067-3868b89601f0\",\"type\":\"ColumnDataSource\"},\"text\":{\"field\":\"names\"},\"text_align\":\"center\",\"text_color\":{\"value\":\"#555555\"},\"text_font_size\":{\"value\":\"8pt\"},\"x\":{\"field\":\"x1\"},\"y\":{\"field\":\"x2\"},\"y_offset\":{\"value\":6}},\"id\":\"2f907041-fb76-4544-b6bc-726ebdae4eef\",\"type\":\"LabelSet\"},{\"attributes\":{\"plot\":{\"id\":\"0a5757aa-4442-40b9-9661-69a3da7666c1\",\"subtype\":\"Figure\",\"type\":\"Plot\"}},\"id\":\"823f6da3-2981-48a0-8f0f-82678ad88d85\",\"type\":\"SaveTool\"},{\"attributes\":{},\"id\":\"0ce4fd63-6075-49e6-9e52-4a6bda477340\",\"type\":\"ToolEvents\"},{\"attributes\":{},\"id\":\"7cdb072b-4876-4cde-992b-a047eea88b40\",\"type\":\"BasicTicker\"},{\"attributes\":{\"fill_alpha\":{\"value\":0.1},\"fill_color\":{\"value\":\"#1f77b4\"},\"line_alpha\":{\"value\":0.1},\"line_color\":{\"value\":\"#1f77b4\"},\"size\":{\"units\":\"screen\",\"value\":8},\"x\":{\"field\":\"x1\"},\"y\":{\"field\":\"x2\"}},\"id\":\"d1e97069-449f-45eb-81b3-09d619ccb671\",\"type\":\"Circle\"},{\"attributes\":{\"data_source\":{\"id\":\"f369b936-2868-47cc-8067-3868b89601f0\",\"type\":\"ColumnDataSource\"},\"glyph\":{\"id\":\"7d0c1432-3223-4ee6-9804-be90189c11b8\",\"type\":\"Circle\"},\"hover_glyph\":null,\"nonselection_glyph\":{\"id\":\"d1e97069-449f-45eb-81b3-09d619ccb671\",\"type\":\"Circle\"},\"selection_glyph\":null},\"id\":\"7421242d-f178-4283-b01c-2c26f5d1027f\",\"type\":\"GlyphRenderer\"},{\"attributes\":{},\"id\":\"a9ef0700-6f5f-4ea7-aeb0-44e2fcfb959f\",\"type\":\"BasicTicker\"},{\"attributes\":{\"formatter\":{\"id\":\"79e822e9-f82a-44c1-a56e-f9b792d5d953\",\"type\":\"BasicTickFormatter\"},\"plot\":{\"id\":\"0a5757aa-4442-40b9-9661-69a3da7666c1\",\"subtype\":\"Figure\",\"type\":\"Plot\"},\"ticker\":{\"id\":\"7cdb072b-4876-4cde-992b-a047eea88b40\",\"type\":\"BasicTicker\"}},\"id\":\"3726d8ee-c000-4a0a-9be2-355e4a44f637\",\"type\":\"LinearAxis\"},{\"attributes\":{\"plot\":{\"id\":\"0a5757aa-4442-40b9-9661-69a3da7666c1\",\"subtype\":\"Figure\",\"type\":\"Plot\"}},\"id\":\"0dc0a080-f143-4d83-9d20-d38072ace428\",\"type\":\"WheelZoomTool\"},{\"attributes\":{\"formatter\":{\"id\":\"5d7f6bf8-8e1c-4871-beb3-b56a80e58e7d\",\"type\":\"BasicTickFormatter\"},\"plot\":{\"id\":\"0a5757aa-4442-40b9-9661-69a3da7666c1\",\"subtype\":\"Figure\",\"type\":\"Plot\"},\"ticker\":{\"id\":\"a9ef0700-6f5f-4ea7-aeb0-44e2fcfb959f\",\"type\":\"BasicTicker\"}},\"id\":\"b366a3cd-3cfe-46eb-ab44-d8104b74b152\",\"type\":\"LinearAxis\"},{\"attributes\":{},\"id\":\"79e822e9-f82a-44c1-a56e-f9b792d5d953\",\"type\":\"BasicTickFormatter\"},{\"attributes\":{},\"id\":\"5d7f6bf8-8e1c-4871-beb3-b56a80e58e7d\",\"type\":\"BasicTickFormatter\"},{\"attributes\":{\"active_drag\":\"auto\",\"active_scroll\":\"auto\",\"active_tap\":\"auto\",\"tools\":[{\"id\":\"54c408ae-15b9-4652-84d1-8c98347a5358\",\"type\":\"PanTool\"},{\"id\":\"0dc0a080-f143-4d83-9d20-d38072ace428\",\"type\":\"WheelZoomTool\"},{\"id\":\"dff9161c-0f66-43e3-8571-10720437454b\",\"type\":\"ResetTool\"},{\"id\":\"823f6da3-2981-48a0-8f0f-82678ad88d85\",\"type\":\"SaveTool\"}]},\"id\":\"c494cdc0-f265-4314-8810-86715ae0e97a\",\"type\":\"Toolbar\"}],\"root_ids\":[\"0a5757aa-4442-40b9-9661-69a3da7666c1\"]},\"title\":\"Bokeh Application\",\"version\":\"0.12.4\"}};\n",
       "            var render_items = [{\"docid\":\"4739835c-7854-4f42-9581-dd94afb443f7\",\"elementid\":\"b417ff82-438a-4a24-8421-6ef9312c39d5\",\"modelid\":\"0a5757aa-4442-40b9-9661-69a3da7666c1\"}];\n",
       "            \n",
       "            Bokeh.embed.embed_items(docs_json, render_items);\n",
       "          };\n",
       "          if (document.readyState != \"loading\") fn();\n",
       "          else document.addEventListener(\"DOMContentLoaded\", fn);\n",
       "        })();\n",
       "      },\n",
       "      function(Bokeh) {\n",
       "      }\n",
       "    ];\n",
       "  \n",
       "    function run_inline_js() {\n",
       "      \n",
       "      if ((window.Bokeh !== undefined) || (force === true)) {\n",
       "        for (var i = 0; i < inline_js.length; i++) {\n",
       "          inline_js[i](window.Bokeh);\n",
       "        }if (force === true) {\n",
       "          display_loaded();\n",
       "        }} else if (Date.now() < window._bokeh_timeout) {\n",
       "        setTimeout(run_inline_js, 100);\n",
       "      } else if (!window._bokeh_failed_load) {\n",
       "        console.log(\"Bokeh: BokehJS failed to load within specified timeout.\");\n",
       "        window._bokeh_failed_load = true;\n",
       "      } else if (force !== true) {\n",
       "        var cell = $(document.getElementById(\"b417ff82-438a-4a24-8421-6ef9312c39d5\")).parents('.cell').data().cell;\n",
       "        cell.output_area.append_execute_result(NB_LOAD_WARNING)\n",
       "      }\n",
       "  \n",
       "    }\n",
       "  \n",
       "    if (window._bokeh_is_loading === 0) {\n",
       "      console.log(\"Bokeh: BokehJS loaded, going straight to plotting\");\n",
       "      run_inline_js();\n",
       "    } else {\n",
       "      load_libs(js_urls, function() {\n",
       "        console.log(\"Bokeh: BokehJS plotting callback run at\", now());\n",
       "        run_inline_js();\n",
       "      });\n",
       "    }\n",
       "  }(this));\n",
       "</script>"
      ]
     },
     "metadata": {},
     "output_type": "display_data"
    }
   ],
   "source": [
    "\n",
    "p = figure(tools=\"pan,wheel_zoom,reset,save\",\n",
    "           toolbar_location=\"above\",\n",
    "           title=\"word2vec T-SNE for most common words\")\n",
    "\n",
    "source = ColumnDataSource(data=dict(x1=words_top_ted_tsne[:,0],\n",
    "                                    x2=words_top_ted_tsne[:,1],\n",
    "                                    names=words_top_ted))\n",
    "\n",
    "p.scatter(x=\"x1\", y=\"x2\", size=8, source=source)\n",
    "\n",
    "labels = LabelSet(x=\"x1\", y=\"x2\", text=\"names\", y_offset=6,\n",
    "                  text_font_size=\"8pt\", text_color=\"#555555\",\n",
    "                  source=source, text_align='center')\n",
    "p.add_layout(labels)\n",
    "\n",
    "show(p)"
   ]
  },
  {
   "cell_type": "code",
   "execution_count": 2,
   "metadata": {
    "collapsed": false
   },
   "outputs": [
    {
     "data": {
      "text/html": [
       "<img src='bokeh_plot.png'>"
      ],
      "text/plain": [
       "<IPython.core.display.HTML object>"
      ]
     },
     "metadata": {},
     "output_type": "display_data"
    }
   ],
   "source": [
    "%%HTML\n",
    "<img src='bokeh_plot.png'>"
   ]
  }
 ],
 "metadata": {
  "kernelspec": {
   "display_name": "Python 2",
   "language": "python",
   "name": "python2"
  },
  "language_info": {
   "codemirror_mode": {
    "name": "ipython",
    "version": 2
   },
   "file_extension": ".py",
   "mimetype": "text/x-python",
   "name": "python",
   "nbconvert_exporter": "python",
   "pygments_lexer": "ipython2",
   "version": "2.7.12"
  },
  "widgets": {
   "state": {},
   "version": "1.1.2"
  }
 },
 "nbformat": 4,
 "nbformat_minor": 0
}
