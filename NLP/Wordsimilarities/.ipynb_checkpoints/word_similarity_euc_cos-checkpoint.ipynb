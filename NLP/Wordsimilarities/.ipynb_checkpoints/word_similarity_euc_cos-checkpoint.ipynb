{
 "cells": [
  {
   "cell_type": "code",
   "execution_count": 1,
   "metadata": {
    "collapsed": false
   },
   "outputs": [],
   "source": [
    "from sklearn.feature_extraction.text import CountVectorizer\n",
    "import numpy as np"
   ]
  },
  {
   "cell_type": "code",
   "execution_count": 2,
   "metadata": {
    "collapsed": true
   },
   "outputs": [],
   "source": [
    "filenames = ['data/austen-brontë/Austen_Emma.txt','data/austen-brontë/Austen_Pride.txt','data/austen-brontë/Austen_Sense.txt','data/austen-brontë/CBronte_Jane.txt','data/austen-brontë/CBronte_Professor.txt','data/austen-brontë/CBronte_Villette.txt']"
   ]
  },
  {
   "cell_type": "code",
   "execution_count": 3,
   "metadata": {
    "collapsed": true
   },
   "outputs": [],
   "source": [
    "vectorizer = CountVectorizer(input='filename', stop_words='english')"
   ]
  },
  {
   "cell_type": "code",
   "execution_count": 4,
   "metadata": {
    "collapsed": true
   },
   "outputs": [],
   "source": [
    "dtm = vectorizer.fit_transform(filenames)"
   ]
  },
  {
   "cell_type": "code",
   "execution_count": 5,
   "metadata": {
    "collapsed": false
   },
   "outputs": [],
   "source": [
    "vocab = vectorizer.get_feature_names()"
   ]
  },
  {
   "cell_type": "code",
   "execution_count": 10,
   "metadata": {
    "collapsed": false
   },
   "outputs": [
    {
     "name": "stdout",
     "output_type": "stream",
     "text": [
      "[u'_be_', u'_been_', u'_benitier_', u'_beyond_', u'_blanc', u'_blasee_', u'_blunder_', u'_boiled_', u'_bonne', u'_bonne_', u'_borrowed_', u'_both_', u'_boulanger_', u'_bride_', u'_broke_', u'_callant_', u'_can', u'_can_', u'_cannot', u'_cannot_', u'_carafe_']\n"
     ]
    }
   ],
   "source": [
    "print vocab[109:130]"
   ]
  },
  {
   "cell_type": "code",
   "execution_count": 11,
   "metadata": {
    "collapsed": false
   },
   "outputs": [
    {
     "data": {
      "text/plain": [
       "22555"
      ]
     },
     "execution_count": 11,
     "metadata": {},
     "output_type": "execute_result"
    }
   ],
   "source": [
    "len(vocab)"
   ]
  },
  {
   "cell_type": "code",
   "execution_count": 12,
   "metadata": {
    "collapsed": false
   },
   "outputs": [
    {
     "data": {
      "text/plain": [
       "scipy.sparse.csr.csr_matrix"
      ]
     },
     "execution_count": 12,
     "metadata": {},
     "output_type": "execute_result"
    }
   ],
   "source": [
    "type(dtm)"
   ]
  },
  {
   "cell_type": "code",
   "execution_count": 13,
   "metadata": {
    "collapsed": false
   },
   "outputs": [
    {
     "data": {
      "text/plain": [
       "(6, 22555)"
      ]
     },
     "execution_count": 13,
     "metadata": {},
     "output_type": "execute_result"
    }
   ],
   "source": [
    "dtm.shape"
   ]
  },
  {
   "cell_type": "code",
   "execution_count": 18,
   "metadata": {
    "collapsed": false
   },
   "outputs": [
    {
     "data": {
      "text/plain": [
       "array([[2, 2, 0, ..., 0, 0, 0],\n",
       "       [0, 1, 0, ..., 0, 0, 0],\n",
       "       [0, 1, 0, ..., 0, 0, 0],\n",
       "       [0, 0, 0, ..., 1, 0, 0],\n",
       "       [0, 0, 1, ..., 0, 1, 0],\n",
       "       [0, 1, 0, ..., 0, 0, 1]], dtype=int64)"
      ]
     },
     "execution_count": 18,
     "metadata": {},
     "output_type": "execute_result"
    }
   ],
   "source": [
    "dtm.toarray()"
   ]
  },
  {
   "cell_type": "code",
   "execution_count": 19,
   "metadata": {
    "collapsed": false
   },
   "outputs": [],
   "source": [
    "vocab = np.array(vocab)"
   ]
  },
  {
   "cell_type": "code",
   "execution_count": 20,
   "metadata": {
    "collapsed": false
   },
   "outputs": [
    {
     "data": {
      "text/plain": [
       "array([u'_any_', u'_appropriation_', u'_apropos', u'_are_', u'_as_',\n",
       "       u'_assistance_', u'_at_', u'_au', u'_ayant', u'_be_', u'_been_',\n",
       "       u'_benitier_', u'_beyond_', u'_blanc', u'_blasee_', u'_blunder_',\n",
       "       u'_boiled_', u'_bonne', u'_bonne_', u'_borrowed_', u'_both_',\n",
       "       u'_boulanger_', u'_bride_', u'_broke_', u'_callant_', u'_can',\n",
       "       u'_can_', u'_cannot', u'_cannot_', u'_carafe_', u'_caro_',\n",
       "       u'_carre_', u'_cause_', u'_ceinture', u'_chapeau', u'_chaperon_',\n",
       "       u'_chef', u'_child_', u'_chose_', u'_clairvoyante_', u'_coiffeurs_',\n",
       "       u'_compassion_', u'_compelled_', u'_compliments_', u'_could_',\n",
       "       u'_court_', u'_courtship_', u'_cultivate_', u'_de_', u'_did_',\n",
       "       u'_dissolved_', u'_dixon_', u'_dixons_', u'_do', u'_do_',\n",
       "       u'_doubts_', u'_each_', u'_eau', u'_eighteen_', u'_eleves_',\n",
       "       u'_elton_', u'_engagement_', u'_entree_', u'_etcetera_',\n",
       "       u'_evening_', u'_ever_', u'_excessively_', u'_fair_', u'_feel_',\n",
       "       u'_feeling_', u'_feelings_', u'_felt_', u'_fiacre_', u'_first_',\n",
       "       u'_fondness_', u'_gaufres_', u'_gentleman_', u'_good_', u'_great_',\n",
       "       u'_greater_', u'_had_', u'_half_', u'_halte', u'_happily_',\n",
       "       u'_has_', u'_have_', u'_he_', u'_hearty_', u'_her_', u'_here_',\n",
       "       u'_him_', u'_himself_', u'_hint_', u'_his_', u'_home_', u'_homely_',\n",
       "       u'_housebreaking_', u'_i', u'_i_', u'_id', u'_idealise_',\n",
       "       u'_impressionable_', u'_in', u'_introduction_', u'_invite_',\n",
       "       u'_is_', u'_it_', u'_joint_', u'_jours', u'_just_', u'_kept',\n",
       "       u'_know_', u'_lady_', u'_leave', u'_letting_', u'_like_',\n",
       "       u'_little_', u'_look_', u'_looked_', u'_looking_', u'_love_',\n",
       "       u'_made_', u'_maitresses_', u'_man_', u'_married_', u'_marry_',\n",
       "       u'_may_', u'_me', u'_me_', u'_meant_', u'_mediocre_', u'_might_',\n",
       "       u'_mille_', u'_mine_', u'_misery_', u'_miss_', u'_mobile_',\n",
       "       u'_moment_', u'_mon', u'_more_', u'_mortal_', u'_most_', u'_mr',\n",
       "       u'_mr_', u'_mrs', u'_mrs_', u'_much_', u'_must_', u'_my_',\n",
       "       u'_naive_', u'_naivete_', u'_named_', u'_names_', u'_nearer_',\n",
       "       u'_never', u'_never_', u'_no', u'_nonchalante_', u'_not_', u'_now_',\n",
       "       u'_of_', u'_one_', u'_ought_', u'_our_', u'_own_', u'_pain',\n",
       "       u'_part_', u'_particular_', u'_party_', u'_parure_', u'_pate_',\n",
       "       u'_pates', u'_patriae_', u'_paul', u'_pensionnat_', u'_perfection_',\n",
       "       u'_perhaps_', u'_petit', u'_pistolets', u'_precious_', u'_present_',\n",
       "       u'_presume_', u'_prie', u'_professeurs_', u'_promise_',\n",
       "       u'_purport_', u'_rather_', u'_re_', u'_realise_', u'_really_',\n",
       "       u'_recollecting_', u'_refused_', u'_repentance_', u'_resent_',\n",
       "       u'_respect_', u'_reveillee_', u'_robbed_', u'_robin_', u'_role_',\n",
       "       u'_sacre_', u'_sacrifice_', u'_said_', u'_salle', u'_salut_',\n",
       "       u'_sang', u'_savoir', u'_saw_', u'_say_', u'_scarlet', u'_secret_',\n",
       "       u'_seem_', u'_seemed_', u'_sensation_', u'_sensitive_', u'_shall_',\n",
       "       u'_she_', u'_ship_', u'_should_', u'_small_', u'_so_', u'_some_',\n",
       "       u'_somebody_', u'_sometimes_', u'_somewhere_', u'_sotto', u'_sour_',\n",
       "       u'_source_', u'_speaking_', u'_spoke_', u'_sposo_', u'_still_',\n",
       "       u'_surveillante_', u'_sylph_', u'_tailleuse_', u'_tailleuses_',\n",
       "       u'_tatter_', u'_taylor_', u'_tell_', u'_ten_', u'_tete', u'_that_',\n",
       "       u'_the', u'_the_', u'_their_', u'_them_', u'_then_', u'_there_',\n",
       "       u'_they', u'_they_', u'_thing_', u'_think_', u'_this_',\n",
       "       u'_thoroughly_', u'_thought_', u'_thoughts_', u'_three_', u'_time_',\n",
       "       u'_times_', u'_to_', u'_told_', u'_too_', u'_treasures_', u'_true_',\n",
       "       u'_try_', u'_two_', u'_un_sympathizing', u'_understand_',\n",
       "       u'_unimpressible', u'_unreasonable_', u'_unrequited_', u'_us_',\n",
       "       u'_vaudeville', u'_vaudeville_', u'_very_', u'_vin', u'_wanted_',\n",
       "       u'_was_', u'_way_', u'_we_', u'_well_', u'_were_', u'_what_',\n",
       "       u'_when_', u'_where_', u'_whiteness_', u'_who_', u'_whose_',\n",
       "       u'_why_', u'_will', u'_will_', u'_wish_', u'_wished_', u'_with_',\n",
       "       u'_woman_', u'_woodhouse_', u'_wore_', u'_world_', u'_would_',\n",
       "       u'_write_', u'_you', u'_you_', u'_your_', u'abandon', u'abandoned',\n",
       "       u'abandoning', u'abandonment', u'abase', u'abasement', u'abashed',\n",
       "       u'abate', u'abatement', u'abating', u'abbess', u'abbey',\n",
       "       u'abbeyland', u'abbot', u'abbots', u'abc', u'abdicated', u'abdiel',\n",
       "       u'abdy', u'abed', u'aberdeen', u'aberration', u'abhor', u'abhorred',\n",
       "       u'abhorrence', u'abhorrent', u'abide', u'abides', u'abiding',\n",
       "       u'abigail', u'abigails', u'abilities', u'ability', u'abject',\n",
       "       u'ablaze', u'able', u'ablest', u'ablution', u'ablutions', u'ably',\n",
       "       u'abnormal', u'abode', u'abodes', u'abolition', u'abominable',\n",
       "       u'abominably', u'abominate', u'aboon', u'abord', u'aboriginal',\n",
       "       u'aboriginals', u'aborigines', u'abortive', u'abound', u'abounded',\n",
       "       u'abounding', u'abridge', u'abridged', u'abridgement',\n",
       "       u'abridgment', u'abroad', u'abrupt', u'abruptly', u'abruptness',\n",
       "       u'absconded', u'absence', u'absences', u'absent', u'absented',\n",
       "       u'absenting', u'absently', u'absolument', u'absolute',\n",
       "       u'absolutely', u'absolutism', u'absolved', u'absolves', u'absorbed',\n",
       "       u'absorbing', u'absorbs', u'abstain', u'abstained', u'abstract',\n",
       "       u'abstracted', u'abstractedly', u'abstracting', u'abstraction',\n",
       "       u'abstractions', u'abstruse', u'absurd', u'absurdities',\n",
       "       u'absurdity', u'absurdly', u'abundance', u'abundant', u'abundantly',\n",
       "       u'abuse', u'abused'], \n",
       "      dtype='<U20')"
      ]
     },
     "execution_count": 20,
     "metadata": {},
     "output_type": "execute_result"
    }
   ],
   "source": [
    "vocab[100:500]"
   ]
  },
  {
   "cell_type": "code",
   "execution_count": 21,
   "metadata": {
    "collapsed": false
   },
   "outputs": [
    {
     "data": {
      "text/plain": [
       "scipy.sparse.csr.csr_matrix"
      ]
     },
     "execution_count": 21,
     "metadata": {},
     "output_type": "execute_result"
    }
   ],
   "source": [
    "type(dtm)"
   ]
  },
  {
   "cell_type": "code",
   "execution_count": 22,
   "metadata": {
    "collapsed": false
   },
   "outputs": [
    {
     "data": {
      "text/plain": [
       "'data/austen-bront\\xc3\\xab/Austen_Emma.txt'"
      ]
     },
     "execution_count": 22,
     "metadata": {},
     "output_type": "execute_result"
    }
   ],
   "source": [
    "filenames[0]"
   ]
  },
  {
   "cell_type": "code",
   "execution_count": 25,
   "metadata": {
    "collapsed": false
   },
   "outputs": [],
   "source": [
    "house_idx = list(vocab).index('house')\n",
    "home = [dtm[i, house_idx] for i in range(len(dtm.toarray()))]\n",
    "house = [dtm[i, vocab == 'house'][0] for i in range(len(dtm.toarray()))]\n",
    "abrupt = [dtm[i, vocab == 'abrupt'][0] for i in range(len(dtm.toarray()))]"
   ]
  },
  {
   "cell_type": "code",
   "execution_count": 27,
   "metadata": {
    "collapsed": false
   },
   "outputs": [
    {
     "data": {
      "text/plain": [
       "[95, 107, 161, 182, 93, 129]"
      ]
     },
     "execution_count": 27,
     "metadata": {},
     "output_type": "execute_result"
    }
   ],
   "source": [
    "home"
   ]
  },
  {
   "cell_type": "code",
   "execution_count": 28,
   "metadata": {
    "collapsed": false
   },
   "outputs": [],
   "source": [
    "from sklearn.metrics.pairwise import euclidean_distances"
   ]
  },
  {
   "cell_type": "code",
   "execution_count": 29,
   "metadata": {
    "collapsed": true
   },
   "outputs": [],
   "source": [
    "euc_dist = euclidean_distances(dtm)"
   ]
  },
  {
   "cell_type": "code",
   "execution_count": 30,
   "metadata": {
    "collapsed": false
   },
   "outputs": [
    {
     "data": {
      "text/plain": [
       "array([[    0.  ,  2013.08,  2274.86,  2105.59,  2425.99,  2417.68],\n",
       "       [ 2013.08,     0.  ,  1698.65,  1725.16,  1639.36,  2001.76],\n",
       "       [ 2274.86,  1698.65,     0.  ,  1843.98,  1568.48,  1895.96],\n",
       "       [ 2105.59,  1725.16,  1843.98,     0.  ,  1571.07,  1342.8 ],\n",
       "       [ 2425.99,  1639.36,  1568.48,  1571.07,     0.  ,  1509.63],\n",
       "       [ 2417.68,  2001.76,  1895.96,  1342.8 ,  1509.63,     0.  ]])"
      ]
     },
     "execution_count": 30,
     "metadata": {},
     "output_type": "execute_result"
    }
   ],
   "source": [
    "np.round(euc_dist, 2)"
   ]
  },
  {
   "cell_type": "code",
   "execution_count": 31,
   "metadata": {
    "collapsed": false
   },
   "outputs": [
    {
     "data": {
      "text/plain": [
       "1725.162021376543"
      ]
     },
     "execution_count": 31,
     "metadata": {},
     "output_type": "execute_result"
    }
   ],
   "source": [
    "euc_dist[1,3]"
   ]
  },
  {
   "cell_type": "code",
   "execution_count": 32,
   "metadata": {
    "collapsed": true
   },
   "outputs": [],
   "source": [
    "from sklearn.metrics.pairwise import cosine_similarity"
   ]
  },
  {
   "cell_type": "code",
   "execution_count": 33,
   "metadata": {
    "collapsed": true
   },
   "outputs": [],
   "source": [
    "cos_dist = 1 - cosine_similarity(dtm)"
   ]
  },
  {
   "cell_type": "code",
   "execution_count": 34,
   "metadata": {
    "collapsed": false
   },
   "outputs": [
    {
     "data": {
      "text/plain": [
       "array([[-0.  ,  0.3 ,  0.41,  0.33,  0.46,  0.44],\n",
       "       [ 0.3 , -0.  ,  0.4 ,  0.33,  0.46,  0.45],\n",
       "       [ 0.41,  0.4 ,  0.  ,  0.39,  0.47,  0.42],\n",
       "       [ 0.33,  0.33,  0.39, -0.  ,  0.21,  0.18],\n",
       "       [ 0.46,  0.46,  0.47,  0.21,  0.  ,  0.17],\n",
       "       [ 0.44,  0.45,  0.42,  0.18,  0.17, -0.  ]])"
      ]
     },
     "execution_count": 34,
     "metadata": {},
     "output_type": "execute_result"
    }
   ],
   "source": [
    "np.round(cos_dist, 2)"
   ]
  },
  {
   "cell_type": "code",
   "execution_count": 35,
   "metadata": {
    "collapsed": false
   },
   "outputs": [
    {
     "data": {
      "text/plain": [
       "0.33182386753253024"
      ]
     },
     "execution_count": 35,
     "metadata": {},
     "output_type": "execute_result"
    }
   ],
   "source": [
    "cos_dist[1,3]"
   ]
  },
  {
   "cell_type": "code",
   "execution_count": 40,
   "metadata": {
    "collapsed": false
   },
   "outputs": [],
   "source": [
    "norms = np.sqrt(np.sum(dtm.T * dtm, axis=1, keepdims=True))"
   ]
  },
  {
   "cell_type": "code",
   "execution_count": 95,
   "metadata": {
    "collapsed": true
   },
   "outputs": [],
   "source": [
    "dtm_normed = dtm / norms"
   ]
  },
  {
   "cell_type": "code",
   "execution_count": 98,
   "metadata": {
    "collapsed": false
   },
   "outputs": [],
   "source": [
    "similar = np.dot(dtm_normed, dtm_normed.T)"
   ]
  },
  {
   "cell_type": "code",
   "execution_count": 100,
   "metadata": {
    "collapsed": false
   },
   "outputs": [
    {
     "data": {
      "text/plain": [
       "array([[ 1.  ,  0.7 ,  0.59,  0.67,  0.54,  0.56],\n",
       "       [ 0.7 ,  1.  ,  0.6 ,  0.67,  0.54,  0.55],\n",
       "       [ 0.59,  0.6 ,  1.  ,  0.61,  0.53,  0.58],\n",
       "       [ 0.67,  0.67,  0.61,  1.  ,  0.79,  0.82],\n",
       "       [ 0.54,  0.54,  0.53,  0.79,  1.  ,  0.83],\n",
       "       [ 0.56,  0.55,  0.58,  0.82,  0.83,  1.  ]])"
      ]
     },
     "execution_count": 100,
     "metadata": {},
     "output_type": "execute_result"
    }
   ],
   "source": [
    "np.round(similar, 2)"
   ]
  },
  {
   "cell_type": "code",
   "execution_count": 105,
   "metadata": {
    "collapsed": false
   },
   "outputs": [
    {
     "data": {
      "text/plain": [
       "0.66817613246747398"
      ]
     },
     "execution_count": 105,
     "metadata": {},
     "output_type": "execute_result"
    }
   ],
   "source": [
    "similar[1,3]"
   ]
  },
  {
   "cell_type": "code",
   "execution_count": 41,
   "metadata": {
    "collapsed": true
   },
   "outputs": [],
   "source": [
    "import os\n",
    "import matplotlib.pyplot as plt\n",
    "from sklearn.manifold import MDS\n",
    "%matplotlib inline"
   ]
  },
  {
   "cell_type": "code",
   "execution_count": 42,
   "metadata": {
    "collapsed": true
   },
   "outputs": [],
   "source": [
    "mds = MDS(n_components=2, dissimilarity=\"precomputed\", random_state=1)\n",
    "euc_pos = mds.fit_transform(euc_dist)"
   ]
  },
  {
   "cell_type": "code",
   "execution_count": 43,
   "metadata": {
    "collapsed": false
   },
   "outputs": [],
   "source": [
    "xs, xy = euc_pos[:,0], euc_pos[:,1]\n",
    "names = [os.path.basename(fn).replace('.txt', '') for fn in filenames]"
   ]
  },
  {
   "cell_type": "code",
   "execution_count": 44,
   "metadata": {
    "collapsed": false
   },
   "outputs": [],
   "source": [
    "def plot_similar(xs,xy, names):\n",
    "    for x,y, name in zip(xs,xy,names):\n",
    "        color = 'orange' if \"Austen\" in name else 'skyblue'\n",
    "        plt.scatter(x,y, c=color)\n",
    "        plt.text(x,y, name)"
   ]
  },
  {
   "cell_type": "code",
   "execution_count": 45,
   "metadata": {
    "collapsed": false
   },
   "outputs": [
    {
     "data": {
      "image/png": "[encoded data removed]",
      "text/plain": [
       "<matplotlib.figure.Figure at 0x57c6c9ec>"
      ]
     },
     "metadata": {},
     "output_type": "display_data"
    }
   ],
   "source": [
    "plot_similar(xs,xy,names)"
   ]
  },
  {
   "cell_type": "code",
   "execution_count": 46,
   "metadata": {
    "collapsed": false
   },
   "outputs": [
    {
     "data": {
      "image/png": "[encoded data removed]",
      "text/plain": [
       "<matplotlib.figure.Figure at 0x5613b0ac>"
      ]
     },
     "metadata": {},
     "output_type": "display_data"
    }
   ],
   "source": [
    "cos_pos = mds.fit_transform(cos_dist)\n",
    "plot_similar(cos_pos[:,0], cos_pos[:,1], names)"
   ]
  },
  {
   "cell_type": "code",
   "execution_count": 48,
   "metadata": {
    "collapsed": false
   },
   "outputs": [],
   "source": [
    "sim_pos = mds.fit_transform(similar)\n",
    "plot_similar(sim_pos[:,0], sim_pos[:,1], names)"
   ]
  },
  {
   "cell_type": "code",
   "execution_count": 49,
   "metadata": {
    "collapsed": true
   },
   "outputs": [],
   "source": [
    "mds3 = MDS(n_components=3, dissimilarity=\"precomputed\", random_state=1)\n",
    "\n",
    "pos = mds3.fit_transform(cos_dist)"
   ]
  },
  {
   "cell_type": "code",
   "execution_count": 50,
   "metadata": {
    "collapsed": false
   },
   "outputs": [
    {
     "data": {
      "image/png": "[encoded data removed]",
      "text/plain": [
       "<matplotlib.figure.Figure at 0xacc3c54c>"
      ]
     },
     "metadata": {},
     "output_type": "display_data"
    }
   ],
   "source": [
    "from mpl_toolkits.mplot3d import Axes3D\n",
    "\n",
    "fig = plt.figure()\n",
    "\n",
    "ax = fig.add_subplot(111, projection='3d')\n",
    "\n",
    "ax.scatter(pos[:, 0], pos[:, 1], pos[:, 2])\n",
    "for x, y, z, s in zip(pos[:, 0], pos[:, 1], pos[:, 2], names):\n",
    "     ax.text(x, y, z, s) \n",
    "plt.show()"
   ]
  },
  {
   "cell_type": "code",
   "execution_count": 51,
   "metadata": {
    "collapsed": true
   },
   "outputs": [],
   "source": [
    "from scipy.cluster.hierarchy import ward, dendrogram"
   ]
  },
  {
   "cell_type": "code",
   "execution_count": 52,
   "metadata": {
    "collapsed": true
   },
   "outputs": [],
   "source": [
    "link_matrix = ward(cos_dist)"
   ]
  },
  {
   "cell_type": "code",
   "execution_count": 53,
   "metadata": {
    "collapsed": false
   },
   "outputs": [
    {
     "data": {
      "text/plain": [
       "{'color_list': ['g', 'g', 'r', 'r', 'b'],\n",
       " 'dcoord': [[0.0, 0.2441317547257546, 0.2441317547257546, 0.0],\n",
       "  [0.0, 0.35528008250356924, 0.35528008250356924, 0.2441317547257546],\n",
       "  [0.0, 0.4291349883566335, 0.4291349883566335, 0.0],\n",
       "  [0.0, 0.62667301180027046, 0.62667301180027046, 0.4291349883566335],\n",
       "  [0.35528008250356924,\n",
       "   1.028304558688526,\n",
       "   1.028304558688526,\n",
       "   0.62667301180027046]],\n",
       " 'icoord': [[15.0, 15.0, 25.0, 25.0],\n",
       "  [5.0, 5.0, 20.0, 20.0],\n",
       "  [45.0, 45.0, 55.0, 55.0],\n",
       "  [35.0, 35.0, 50.0, 50.0],\n",
       "  [12.5, 12.5, 42.5, 42.5]],\n",
       " 'ivl': ['CBronte_Jane',\n",
       "  'CBronte_Professor',\n",
       "  'CBronte_Villette',\n",
       "  'Austen_Sense',\n",
       "  'Austen_Emma',\n",
       "  'Austen_Pride'],\n",
       " 'leaves': [3, 4, 5, 2, 0, 1]}"
      ]
     },
     "execution_count": 53,
     "metadata": {},
     "output_type": "execute_result"
    },
    {
     "data": {
      "image/png": "[encoded data removed]",
      "text/plain": [
       "<matplotlib.figure.Figure at 0x561d01ec>"
      ]
     },
     "metadata": {},
     "output_type": "display_data"
    }
   ],
   "source": [
    "dendrogram(link_matrix, orientation=\"right\", labels=names)"
   ]
  },
  {
   "cell_type": "code",
   "execution_count": null,
   "metadata": {
    "collapsed": true
   },
   "outputs": [],
   "source": []
  }
 ],
 "metadata": {
  "kernelspec": {
   "display_name": "Python 2",
   "language": "python",
   "name": "python2"
  },
  "language_info": {
   "codemirror_mode": {
    "name": "ipython",
    "version": 2
   },
   "file_extension": ".py",
   "mimetype": "text/x-python",
   "name": "python",
   "nbconvert_exporter": "python",
   "pygments_lexer": "ipython2",
   "version": "2.7.12"
  }
 },
 "nbformat": 4,
 "nbformat_minor": 1
}
