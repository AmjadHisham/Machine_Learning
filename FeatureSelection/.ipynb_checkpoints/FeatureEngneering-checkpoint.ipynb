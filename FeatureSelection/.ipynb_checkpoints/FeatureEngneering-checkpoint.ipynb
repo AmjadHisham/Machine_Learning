{
 "cells": [
  {
   "cell_type": "markdown",
   "metadata": {},
   "source": [
    "# Feature Selection"
   ]
  },
  {
   "cell_type": "code",
   "execution_count": 125,
   "metadata": {
    "collapsed": false
   },
   "outputs": [],
   "source": [
    "from sklearn.linear_model import RandomizedLasso\n",
    "from sklearn.datasets import load_boston\n",
    "import pandas as pd\n",
    "import matplotlib.pyplot as plt\n",
    "import seaborn as sns\n",
    "sns.set_style('whitegrid')\n",
    "%matplotlib inline"
   ]
  },
  {
   "cell_type": "markdown",
   "metadata": {},
   "source": [
    "### Stability Check"
   ]
  },
  {
   "cell_type": "code",
   "execution_count": 95,
   "metadata": {
    "collapsed": false
   },
   "outputs": [
    {
     "data": {
      "text/plain": [
       "RandomizedLasso(alpha=0.025, eps=2.2204460492503131e-16, fit_intercept=True,\n",
       "        max_iter=500, memory=Memory(cachedir=None), n_jobs=1,\n",
       "        n_resampling=200, normalize=True, pre_dispatch='3*n_jobs',\n",
       "        precompute='auto', random_state=None, sample_fraction=0.75,\n",
       "        scaling=0.5, selection_threshold=0.25, verbose=False)"
      ]
     },
     "execution_count": 95,
     "metadata": {},
     "output_type": "execute_result"
    }
   ],
   "source": [
    "boston = load_boston()\n",
    "\n",
    "b_X = boston['data']\n",
    "b_Y = boston['target']\n",
    "b_names = boston['feature_names']\n",
    "\n",
    "rlasso = RandomizedLasso(alpha=0.025)\n",
    "rlasso.fit(b_X,b_Y)"
   ]
  },
  {
   "cell_type": "code",
   "execution_count": 96,
   "metadata": {
    "collapsed": false
   },
   "outputs": [
    {
     "name": "stdout",
     "output_type": "stream",
     "text": [
      "Features seleted using LASSO:\n",
      "[(1.0, 'RM'), (1.0, 'PTRATIO'), (1.0, 'LSTAT'), (0.605, 'CHAS'), (0.58, 'B'), (0.46, 'CRIM'), (0.33, 'TAX'), (0.225, 'NOX'), (0.215, 'DIS'), (0.105, 'INDUS'), (0.045, 'ZN'), (0.03, 'RAD'), (0.03, 'AGE')]\n"
     ]
    }
   ],
   "source": [
    "print \"Features seleted using LASSO:\"\n",
    "print sorted(zip(map(lambda x: round(x, 4), rlasso.scores_), b_names), reverse=True)"
   ]
  },
  {
   "cell_type": "code",
   "execution_count": 126,
   "metadata": {
    "collapsed": false
   },
   "outputs": [
    {
     "data": {
      "text/plain": [
       "([<matplotlib.axis.YTick at 0xa823b4cc>,\n",
       "  <matplotlib.axis.YTick at 0xa90fca4c>,\n",
       "  <matplotlib.axis.YTick at 0xa801134c>,\n",
       "  <matplotlib.axis.YTick at 0xa7fb1eac>,\n",
       "  <matplotlib.axis.YTick at 0xa7fb83cc>,\n",
       "  <matplotlib.axis.YTick at 0xa7fb88ec>,\n",
       "  <matplotlib.axis.YTick at 0xa7fb8e0c>,\n",
       "  <matplotlib.axis.YTick at 0xa7fbe34c>,\n",
       "  <matplotlib.axis.YTick at 0xa7fbe86c>,\n",
       "  <matplotlib.axis.YTick at 0xa7fbed8c>,\n",
       "  <matplotlib.axis.YTick at 0xa7fc534c>,\n",
       "  <matplotlib.axis.YTick at 0xa7fc590c>,\n",
       "  <matplotlib.axis.YTick at 0xa7fc5ecc>],\n",
       " <a list of 13 Text yticklabel objects>)"
      ]
     },
     "execution_count": 126,
     "metadata": {},
     "output_type": "execute_result"
    },
    {
     "data": {
      "image/png": "[encoded data removed]",
      "text/plain": [
       "<matplotlib.figure.Figure at 0xa80320cc>"
      ]
     },
     "metadata": {},
     "output_type": "display_data"
    }
   ],
   "source": [
    "rl = sorted(zip(map(lambda x: round(x, 4), rlasso.scores_), b_names), reverse=False)\n",
    "x = pd.DataFrame(rl)\n",
    "plt.barh(range(x.shape[0]),x.iloc[:,0])\n",
    "plt.yticks(range(x.shape[0]),x.iloc[:,1])"
   ]
  },
  {
   "cell_type": "markdown",
   "metadata": {},
   "source": [
    "# Using Tree based model to select the features"
   ]
  },
  {
   "cell_type": "code",
   "execution_count": 99,
   "metadata": {
    "collapsed": true
   },
   "outputs": [],
   "source": [
    "from sklearn.ensemble import RandomForestRegressor"
   ]
  },
  {
   "cell_type": "code",
   "execution_count": 100,
   "metadata": {
    "collapsed": false
   },
   "outputs": [
    {
     "name": "stdout",
     "output_type": "stream",
     "text": [
      "Features sorted by their score:\n",
      "[(0.4276, 'RM'), (0.3829, 'LSTAT'), (0.0619, 'DIS'), (0.0394, 'CRIM'), (0.026, 'NOX'), (0.016, 'PTRATIO'), (0.0158, 'AGE'), (0.0102, 'TAX'), (0.0078, 'B'), (0.0068, 'RAD'), (0.0039, 'INDUS'), (0.0008, 'ZN'), (0.0008, 'CHAS')]\n"
     ]
    }
   ],
   "source": [
    "rf = RandomForestRegressor()\n",
    "rf.fit(b_X, b_Y)\n",
    "print \"Features sorted by their score:\"\n",
    "print sorted(zip(map(lambda x: round(x, 4), rf.feature_importances_), b_names), \n",
    "             reverse=True)"
   ]
  },
  {
   "cell_type": "code",
   "execution_count": 116,
   "metadata": {
    "collapsed": false
   },
   "outputs": [
    {
     "data": {
      "text/plain": [
       "([<matplotlib.axis.YTick at 0xa8883eac>,\n",
       "  <matplotlib.axis.YTick at 0xa8ad00ac>,\n",
       "  <matplotlib.axis.YTick at 0xa86c0d6c>,\n",
       "  <matplotlib.axis.YTick at 0xa86688ec>,\n",
       "  <matplotlib.axis.YTick at 0xa8668dec>,\n",
       "  <matplotlib.axis.YTick at 0xa866e30c>,\n",
       "  <matplotlib.axis.YTick at 0xa866e80c>,\n",
       "  <matplotlib.axis.YTick at 0xa866ed0c>,\n",
       "  <matplotlib.axis.YTick at 0xa867622c>,\n",
       "  <matplotlib.axis.YTick at 0xa867672c>,\n",
       "  <matplotlib.axis.YTick at 0xa8676cac>,\n",
       "  <matplotlib.axis.YTick at 0xa867d26c>,\n",
       "  <matplotlib.axis.YTick at 0xa867d80c>],\n",
       " <a list of 13 Text yticklabel objects>)"
      ]
     },
     "execution_count": 116,
     "metadata": {},
     "output_type": "execute_result"
    },
    {
     "data": {
      "image/png": "[encoded data removed]",
      "text/plain": [
       "<matplotlib.figure.Figure at 0xa885eccc>"
      ]
     },
     "metadata": {},
     "output_type": "display_data"
    }
   ],
   "source": [
    "rfr = sorted(zip(map(lambda x: round(x, 4), rf.feature_importances_), b_names), reverse=False)\n",
    "x = pd.DataFrame(rfr)\n",
    "plt.barh(range(x.shape[0]),x.iloc[:,0])\n",
    "plt.yticks(range(x.shape[0]),x.iloc[:,1])"
   ]
  },
  {
   "cell_type": "markdown",
   "metadata": {},
   "source": [
    "# Recursive feature extraction (RFE) using Linear model"
   ]
  },
  {
   "cell_type": "code",
   "execution_count": 102,
   "metadata": {
    "collapsed": true
   },
   "outputs": [],
   "source": [
    "from sklearn.feature_selection import RFE\n",
    "from sklearn.linear_model import LinearRegression"
   ]
  },
  {
   "cell_type": "code",
   "execution_count": 106,
   "metadata": {
    "collapsed": false
   },
   "outputs": [
    {
     "data": {
      "text/plain": [
       "RFE(estimator=LinearRegression(copy_X=True, fit_intercept=True, n_jobs=1, normalize=False),\n",
       "  n_features_to_select=1, step=1, verbose=0)"
      ]
     },
     "execution_count": 106,
     "metadata": {},
     "output_type": "execute_result"
    }
   ],
   "source": [
    "lr = LinearRegression()\n",
    "\n",
    "rfe = RFE(lr, n_features_to_select=1)\n",
    "rfe.fit(b_X,b_Y)"
   ]
  },
  {
   "cell_type": "code",
   "execution_count": 107,
   "metadata": {
    "collapsed": false
   },
   "outputs": [
    {
     "name": "stdout",
     "output_type": "stream",
     "text": [
      "Features sorted by their rank:\n",
      "[(1.0, 'NOX'), (2.0, 'RM'), (3.0, 'CHAS'), (4.0, 'PTRATIO'), (5.0, 'DIS'), (6.0, 'LSTAT'), (7.0, 'RAD'), (8.0, 'CRIM'), (9.0, 'INDUS'), (10.0, 'ZN'), (11.0, 'TAX'), (12.0, 'B'), (13.0, 'AGE')]\n"
     ]
    }
   ],
   "source": [
    "print \"Features sorted by their rank:\"\n",
    "print sorted(zip(map(lambda x: round(x, 4), rfe.ranking_), b_names))   "
   ]
  },
  {
   "cell_type": "code",
   "execution_count": 124,
   "metadata": {
    "collapsed": false
   },
   "outputs": [
    {
     "data": {
      "text/plain": [
       "([<matplotlib.axis.YTick at 0xa868268c>,\n",
       "  <matplotlib.axis.YTick at 0xa8262e0c>,\n",
       "  <matplotlib.axis.YTick at 0xa803222c>,\n",
       "  <matplotlib.axis.YTick at 0xa803274c>,\n",
       "  <matplotlib.axis.YTick at 0xa8032c6c>,\n",
       "  <matplotlib.axis.YTick at 0xa80361ec>,\n",
       "  <matplotlib.axis.YTick at 0xa803674c>,\n",
       "  <matplotlib.axis.YTick at 0xa8036cac>,\n",
       "  <matplotlib.axis.YTick at 0xa803d22c>,\n",
       "  <matplotlib.axis.YTick at 0xa803d78c>,\n",
       "  <matplotlib.axis.YTick at 0xa803dd6c>,\n",
       "  <matplotlib.axis.YTick at 0xa804438c>,\n",
       "  <matplotlib.axis.YTick at 0xa804498c>],\n",
       " <a list of 13 Text yticklabel objects>)"
      ]
     },
     "execution_count": 124,
     "metadata": {},
     "output_type": "execute_result"
    },
    {
     "data": {
      "image/png": "[encoded data removed]",
      "text/plain": [
       "<matplotlib.figure.Figure at 0xa83e128c>"
      ]
     },
     "metadata": {},
     "output_type": "display_data"
    }
   ],
   "source": [
    "rfelr = sorted(zip(map(lambda x: round(x, 4), rfe.ranking_), b_names), reverse=True)\n",
    "x = pd.DataFrame(rfelr)\n",
    "plt.barh(range(x.shape[0]),x.iloc[:,0])\n",
    "plt.yticks(range(x.shape[0]),x.iloc[:,1])"
   ]
  },
  {
   "cell_type": "markdown",
   "metadata": {},
   "source": [
    "# Putting all side by side "
   ]
  },
  {
   "cell_type": "code",
   "execution_count": 118,
   "metadata": {
    "collapsed": false
   },
   "outputs": [
    {
     "data": {
      "text/plain": [
       "(750, 14)"
      ]
     },
     "execution_count": 118,
     "metadata": {},
     "output_type": "execute_result"
    }
   ],
   "source": [
    "from sklearn.datasets import load_boston\n",
    "from sklearn.linear_model import (LinearRegression, Ridge, \n",
    "                                  Lasso, RandomizedLasso)\n",
    "from sklearn.feature_selection import RFE, f_regression\n",
    "from sklearn.preprocessing import MinMaxScaler\n",
    "from sklearn.ensemble import RandomForestRegressor\n",
    "import numpy as np\n",
    "#from minepy import MINE\n",
    "\n",
    "np.random.seed(0)\n",
    " \n",
    "size = 750\n",
    "X = np.random.uniform(0, 1, (size, 14))\n",
    "X.shape"
   ]
  },
  {
   "cell_type": "markdown",
   "metadata": {},
   "source": [
    "#### Creating dataset for Linear regression(Friedamn regression problem)"
   ]
  },
  {
   "cell_type": "code",
   "execution_count": 110,
   "metadata": {
    "collapsed": false
   },
   "outputs": [],
   "source": [
    "#\"Friedamn #1” regression problem\n",
    "Y = (10 * np.sin(np.pi*X[:,0]*X[:,1]) + 20*(X[:,2] - .5)**2 +\n",
    "     10*X[:,3] + 5*X[:,4] + np.random.normal(0,1))\n",
    "#Add 3 additional correlated variables (correlated with X1-X3)\n",
    "X[:,10:] = X[:,:4] + np.random.normal(0, .025, (size,4))"
   ]
  },
  {
   "cell_type": "code",
   "execution_count": 119,
   "metadata": {
    "collapsed": true
   },
   "outputs": [],
   "source": [
    "names = [\"x%s\" % i for i in range(1,15)]\n",
    " \n",
    "ranks = {}\n",
    " \n",
    "def rank_to_dict(ranks, names, order=1):\n",
    "    minmax = MinMaxScaler()\n",
    "    ranks = minmax.fit_transform(order*np.array([ranks]).T).T[0]\n",
    "    ranks = map(lambda x: round(x, 2), ranks)\n",
    "    return dict(zip(names, ranks))"
   ]
  },
  {
   "cell_type": "code",
   "execution_count": 120,
   "metadata": {
    "collapsed": false
   },
   "outputs": [],
   "source": [
    "lr = LinearRegression(normalize=True)\n",
    "lr.fit(X, Y)\n",
    "ranks[\"Linear reg\"] = rank_to_dict(np.abs(lr.coef_), names)\n",
    " \n",
    "ridge = Ridge(alpha=7)\n",
    "ridge.fit(X, Y)\n",
    "ranks[\"Ridge\"] = rank_to_dict(np.abs(ridge.coef_), names)\n",
    " \n",
    " \n",
    "lasso = Lasso(alpha=.05)\n",
    "lasso.fit(X, Y)\n",
    "ranks[\"Lasso\"] = rank_to_dict(np.abs(lasso.coef_), names)\n",
    " \n",
    " \n",
    "rlasso = RandomizedLasso(alpha=0.04)\n",
    "rlasso.fit(X, Y)\n",
    "ranks[\"Stability\"] = rank_to_dict(np.abs(rlasso.scores_), names)\n",
    " \n",
    "#stop the search when 5 features are left (they will get equal scores)\n",
    "rfe = RFE(lr, n_features_to_select=5)\n",
    "rfe.fit(X,Y)\n",
    "ranks[\"RFE\"] = rank_to_dict(map(float, rfe.ranking_), names, order=-1)\n",
    " \n",
    "rf = RandomForestRegressor()\n",
    "rf.fit(X,Y)\n",
    "ranks[\"RF\"] = rank_to_dict(rf.feature_importances_, names)\n",
    " \n",
    " \n",
    "f, pval  = f_regression(X, Y, center=True)\n",
    "ranks[\"Corr.\"] = rank_to_dict(f, names)\n",
    "\n",
    "\n",
    "#mine = MINE()\n",
    "#mic_scores = []\n",
    "#for i in range(X.shape[1]):\n",
    "#    mine.compute_score(X[:,i], Y)\n",
    "#    m = mine.mic()\n",
    "#    mic_scores.append(m)\n",
    " \n",
    "#ranks[\"MIC\"] = rank_to_dict(mic_scores, names) "
   ]
  },
  {
   "cell_type": "code",
   "execution_count": 121,
   "metadata": {
    "collapsed": false
   },
   "outputs": [
    {
     "data": {
      "text/html": [
       "<div>\n",
       "<table border=\"1\" class=\"dataframe\">\n",
       "  <thead>\n",
       "    <tr style=\"text-align: right;\">\n",
       "      <th></th>\n",
       "      <th>Corr.</th>\n",
       "      <th>Lasso</th>\n",
       "      <th>Linear reg</th>\n",
       "      <th>RF</th>\n",
       "      <th>RFE</th>\n",
       "      <th>Ridge</th>\n",
       "      <th>Stability</th>\n",
       "      <th>MEAN</th>\n",
       "    </tr>\n",
       "  </thead>\n",
       "  <tbody>\n",
       "    <tr>\n",
       "      <th>x1</th>\n",
       "      <td>0.30</td>\n",
       "      <td>0.68</td>\n",
       "      <td>0.71</td>\n",
       "      <td>0.62</td>\n",
       "      <td>1.00</td>\n",
       "      <td>0.70</td>\n",
       "      <td>0.49</td>\n",
       "      <td>0.642857</td>\n",
       "    </tr>\n",
       "    <tr>\n",
       "      <th>x10</th>\n",
       "      <td>0.00</td>\n",
       "      <td>0.00</td>\n",
       "      <td>0.01</td>\n",
       "      <td>0.01</td>\n",
       "      <td>0.67</td>\n",
       "      <td>0.00</td>\n",
       "      <td>0.00</td>\n",
       "      <td>0.098571</td>\n",
       "    </tr>\n",
       "    <tr>\n",
       "      <th>x11</th>\n",
       "      <td>0.00</td>\n",
       "      <td>0.00</td>\n",
       "      <td>0.00</td>\n",
       "      <td>0.01</td>\n",
       "      <td>0.11</td>\n",
       "      <td>0.00</td>\n",
       "      <td>0.00</td>\n",
       "      <td>0.017143</td>\n",
       "    </tr>\n",
       "    <tr>\n",
       "      <th>x12</th>\n",
       "      <td>0.00</td>\n",
       "      <td>0.00</td>\n",
       "      <td>0.01</td>\n",
       "      <td>0.01</td>\n",
       "      <td>0.44</td>\n",
       "      <td>0.00</td>\n",
       "      <td>0.00</td>\n",
       "      <td>0.065714</td>\n",
       "    </tr>\n",
       "    <tr>\n",
       "      <th>x13</th>\n",
       "      <td>0.00</td>\n",
       "      <td>0.00</td>\n",
       "      <td>0.01</td>\n",
       "      <td>0.00</td>\n",
       "      <td>0.33</td>\n",
       "      <td>0.01</td>\n",
       "      <td>0.00</td>\n",
       "      <td>0.050000</td>\n",
       "    </tr>\n",
       "    <tr>\n",
       "      <th>x14</th>\n",
       "      <td>0.00</td>\n",
       "      <td>0.00</td>\n",
       "      <td>0.01</td>\n",
       "      <td>0.00</td>\n",
       "      <td>0.56</td>\n",
       "      <td>0.01</td>\n",
       "      <td>0.00</td>\n",
       "      <td>0.082857</td>\n",
       "    </tr>\n",
       "    <tr>\n",
       "      <th>x2</th>\n",
       "      <td>0.44</td>\n",
       "      <td>0.71</td>\n",
       "      <td>0.74</td>\n",
       "      <td>0.76</td>\n",
       "      <td>1.00</td>\n",
       "      <td>0.73</td>\n",
       "      <td>0.51</td>\n",
       "      <td>0.698571</td>\n",
       "    </tr>\n",
       "    <tr>\n",
       "      <th>x3</th>\n",
       "      <td>0.00</td>\n",
       "      <td>0.00</td>\n",
       "      <td>0.02</td>\n",
       "      <td>0.12</td>\n",
       "      <td>0.78</td>\n",
       "      <td>0.02</td>\n",
       "      <td>0.00</td>\n",
       "      <td>0.134286</td>\n",
       "    </tr>\n",
       "    <tr>\n",
       "      <th>x4</th>\n",
       "      <td>1.00</td>\n",
       "      <td>1.00</td>\n",
       "      <td>1.00</td>\n",
       "      <td>1.00</td>\n",
       "      <td>1.00</td>\n",
       "      <td>1.00</td>\n",
       "      <td>1.00</td>\n",
       "      <td>1.000000</td>\n",
       "    </tr>\n",
       "    <tr>\n",
       "      <th>x5</th>\n",
       "      <td>0.10</td>\n",
       "      <td>0.44</td>\n",
       "      <td>0.48</td>\n",
       "      <td>0.20</td>\n",
       "      <td>1.00</td>\n",
       "      <td>0.47</td>\n",
       "      <td>0.34</td>\n",
       "      <td>0.432857</td>\n",
       "    </tr>\n",
       "    <tr>\n",
       "      <th>x6</th>\n",
       "      <td>0.00</td>\n",
       "      <td>0.00</td>\n",
       "      <td>0.04</td>\n",
       "      <td>0.00</td>\n",
       "      <td>0.89</td>\n",
       "      <td>0.03</td>\n",
       "      <td>0.00</td>\n",
       "      <td>0.137143</td>\n",
       "    </tr>\n",
       "    <tr>\n",
       "      <th>x7</th>\n",
       "      <td>0.01</td>\n",
       "      <td>0.00</td>\n",
       "      <td>0.00</td>\n",
       "      <td>0.03</td>\n",
       "      <td>0.22</td>\n",
       "      <td>0.01</td>\n",
       "      <td>0.00</td>\n",
       "      <td>0.038571</td>\n",
       "    </tr>\n",
       "    <tr>\n",
       "      <th>x8</th>\n",
       "      <td>0.02</td>\n",
       "      <td>0.00</td>\n",
       "      <td>0.04</td>\n",
       "      <td>0.00</td>\n",
       "      <td>1.00</td>\n",
       "      <td>0.05</td>\n",
       "      <td>0.00</td>\n",
       "      <td>0.158571</td>\n",
       "    </tr>\n",
       "    <tr>\n",
       "      <th>x9</th>\n",
       "      <td>0.01</td>\n",
       "      <td>0.00</td>\n",
       "      <td>0.00</td>\n",
       "      <td>0.00</td>\n",
       "      <td>0.00</td>\n",
       "      <td>0.01</td>\n",
       "      <td>0.00</td>\n",
       "      <td>0.002857</td>\n",
       "    </tr>\n",
       "  </tbody>\n",
       "</table>\n",
       "</div>"
      ],
      "text/plain": [
       "     Corr.  Lasso  Linear reg    RF   RFE  Ridge  Stability      MEAN\n",
       "x1    0.30   0.68        0.71  0.62  1.00   0.70       0.49  0.642857\n",
       "x10   0.00   0.00        0.01  0.01  0.67   0.00       0.00  0.098571\n",
       "x11   0.00   0.00        0.00  0.01  0.11   0.00       0.00  0.017143\n",
       "x12   0.00   0.00        0.01  0.01  0.44   0.00       0.00  0.065714\n",
       "x13   0.00   0.00        0.01  0.00  0.33   0.01       0.00  0.050000\n",
       "x14   0.00   0.00        0.01  0.00  0.56   0.01       0.00  0.082857\n",
       "x2    0.44   0.71        0.74  0.76  1.00   0.73       0.51  0.698571\n",
       "x3    0.00   0.00        0.02  0.12  0.78   0.02       0.00  0.134286\n",
       "x4    1.00   1.00        1.00  1.00  1.00   1.00       1.00  1.000000\n",
       "x5    0.10   0.44        0.48  0.20  1.00   0.47       0.34  0.432857\n",
       "x6    0.00   0.00        0.04  0.00  0.89   0.03       0.00  0.137143\n",
       "x7    0.01   0.00        0.00  0.03  0.22   0.01       0.00  0.038571\n",
       "x8    0.02   0.00        0.04  0.00  1.00   0.05       0.00  0.158571\n",
       "x9    0.01   0.00        0.00  0.00  0.00   0.01       0.00  0.002857"
      ]
     },
     "execution_count": 121,
     "metadata": {},
     "output_type": "execute_result"
    }
   ],
   "source": [
    "import pandas as pd\n",
    "import numpy as np\n",
    "\n",
    "table = pd.DataFrame(ranks)\n",
    "table['MEAN'] = [np.mean(table.iloc[i,:]) for i in range(table.shape[0])]\n",
    "table"
   ]
  },
  {
   "cell_type": "code",
   "execution_count": 122,
   "metadata": {
    "collapsed": false
   },
   "outputs": [
    {
     "data": {
      "text/plain": [
       "([<matplotlib.axis.YTick at 0xa840f7ac>,\n",
       "  <matplotlib.axis.YTick at 0xa86233ec>,\n",
       "  <matplotlib.axis.YTick at 0xa840422c>,\n",
       "  <matplotlib.axis.YTick at 0xa8458d6c>,\n",
       "  <matplotlib.axis.YTick at 0xa880350c>,\n",
       "  <matplotlib.axis.YTick at 0xa84774cc>,\n",
       "  <matplotlib.axis.YTick at 0xa83cc1ec>,\n",
       "  <matplotlib.axis.YTick at 0xa83cc6ec>,\n",
       "  <matplotlib.axis.YTick at 0xa83ccbec>,\n",
       "  <matplotlib.axis.YTick at 0xa83d210c>,\n",
       "  <matplotlib.axis.YTick at 0xa83d260c>,\n",
       "  <matplotlib.axis.YTick at 0xa83d2b0c>,\n",
       "  <matplotlib.axis.YTick at 0xa83d2fcc>,\n",
       "  <matplotlib.axis.YTick at 0xa83db52c>],\n",
       " <a list of 14 Text yticklabel objects>)"
      ]
     },
     "execution_count": 122,
     "metadata": {},
     "output_type": "execute_result"
    },
    {
     "data": {
      "image/png": "[encoded data removed]",
      "text/plain": [
       "<matplotlib.figure.Figure at 0xa83ff42c>"
      ]
     },
     "metadata": {},
     "output_type": "display_data"
    }
   ],
   "source": [
    "plt.barh(range(table.shape[0]),table.iloc[:,7])\n",
    "plt.yticks(range(table.shape[0]),table.index)"
   ]
  },
  {
   "cell_type": "code",
   "execution_count": null,
   "metadata": {
    "collapsed": false
   },
   "outputs": [],
   "source": []
  },
  {
   "cell_type": "code",
   "execution_count": null,
   "metadata": {
    "collapsed": false,
    "scrolled": false
   },
   "outputs": [],
   "source": []
  }
 ],
 "metadata": {
  "kernelspec": {
   "display_name": "Python 2",
   "language": "python",
   "name": "python2"
  },
  "language_info": {
   "codemirror_mode": {
    "name": "ipython",
    "version": 2
   },
   "file_extension": ".py",
   "mimetype": "text/x-python",
   "name": "python",
   "nbconvert_exporter": "python",
   "pygments_lexer": "ipython2",
   "version": "2.7.12"
  }
 },
 "nbformat": 4,
 "nbformat_minor": 1
}
